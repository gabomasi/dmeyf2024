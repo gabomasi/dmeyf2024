{
 "cells": [
  {
   "cell_type": "code",
   "execution_count": 1,
   "metadata": {},
   "outputs": [],
   "source": [
    "# COMENTARIO: EN CASO DE HABER ELIMINADO VARIABLES EN EL PRE-PROCESAMIENTO, SE DEBEN QUITAR EN LAS COLUMNAS\n",
    "# CALCULADAS."
   ]
  },
  {
   "cell_type": "markdown",
   "metadata": {},
   "source": [
    "## A. Configuración general."
   ]
  },
  {
   "cell_type": "code",
   "execution_count": 1,
   "metadata": {},
   "outputs": [
    {
     "data": {
      "text/html": [
       "<style type='text/css'>\n",
       ".datatable table.frame { margin-bottom: 0; }\n",
       ".datatable table.frame thead { border-bottom: none; }\n",
       ".datatable table.frame tr.coltypes td {  color: #FFFFFF;  line-height: 6px;  padding: 0 0.5em;}\n",
       ".datatable .bool    { background: #DDDD99; }\n",
       ".datatable .object  { background: #565656; }\n",
       ".datatable .int     { background: #5D9E5D; }\n",
       ".datatable .float   { background: #4040CC; }\n",
       ".datatable .str     { background: #CC4040; }\n",
       ".datatable .time    { background: #40CC40; }\n",
       ".datatable .row_index {  background: var(--jp-border-color3);  border-right: 1px solid var(--jp-border-color0);  color: var(--jp-ui-font-color3);  font-size: 9px;}\n",
       ".datatable .frame tbody td { text-align: left; }\n",
       ".datatable .frame tr.coltypes .row_index {  background: var(--jp-border-color0);}\n",
       ".datatable th:nth-child(2) { padding-left: 12px; }\n",
       ".datatable .hellipsis {  color: var(--jp-cell-editor-border-color);}\n",
       ".datatable .vellipsis {  background: var(--jp-layout-color0);  color: var(--jp-cell-editor-border-color);}\n",
       ".datatable .na {  color: var(--jp-cell-editor-border-color);  font-size: 80%;}\n",
       ".datatable .sp {  opacity: 0.25;}\n",
       ".datatable .footer { font-size: 9px; }\n",
       ".datatable .frame_dimensions {  background: var(--jp-border-color3);  border-top: 1px solid var(--jp-border-color0);  color: var(--jp-ui-font-color3);  display: inline-block;  opacity: 0.6;  padding: 1px 10px 1px 5px;}\n",
       "</style>\n"
      ],
      "text/plain": [
       "<IPython.core.display.HTML object>"
      ]
     },
     "metadata": {},
     "output_type": "display_data"
    },
    {
     "name": "stderr",
     "output_type": "stream",
     "text": [
      "/home/gmasi/.venv/lib/python3.12/site-packages/dask/dataframe/__init__.py:42: FutureWarning: \n",
      "Dask dataframe query planning is disabled because dask-expr is not installed.\n",
      "\n",
      "You can install it with `pip install dask[dataframe]` or `conda install dask`.\n",
      "This will raise in a future version.\n",
      "\n",
      "  warnings.warn(msg, FutureWarning)\n",
      "/home/gmasi/.venv/lib/python3.12/site-packages/tqdm/auto.py:21: TqdmWarning: IProgress not found. Please update jupyter and ipywidgets. See https://ipywidgets.readthedocs.io/en/stable/user_install.html\n",
      "  from .autonotebook import tqdm as notebook_tqdm\n"
     ]
    }
   ],
   "source": [
    "#1. Librerías.\n",
    "%run \"../librerias.ipynb\""
   ]
  },
  {
   "cell_type": "code",
   "execution_count": 2,
   "metadata": {},
   "outputs": [],
   "source": [
    "#2. Constantes.\n",
    "%run \"../constantes.ipynb\"\n",
    "\n",
    "dataset_input = dataset_file_preprocesado_all_3\n",
    "dataset_output = dataset_file_fe_all_3\n",
    "ventana = 3"
   ]
  },
  {
   "cell_type": "code",
   "execution_count": 3,
   "metadata": {},
   "outputs": [],
   "source": [
    "#3. Funciones.\n",
    "%run \"../funciones.ipynb\""
   ]
  },
  {
   "cell_type": "code",
   "execution_count": 4,
   "metadata": {},
   "outputs": [],
   "source": [
    "#4. Configuración de jupysql.\n",
    "%load_ext sql\n",
    "%config SqlMagic.autopandas = True\n",
    "%config SqlMagic.feedback = False\n",
    "%config SqlMagic.displaycon = False"
   ]
  },
  {
   "cell_type": "code",
   "execution_count": 5,
   "metadata": {},
   "outputs": [],
   "source": [
    "#5. Conexión a DuckDB.\n",
    "%sql duckdb:///:memory:"
   ]
  },
  {
   "cell_type": "code",
   "execution_count": 6,
   "metadata": {},
   "outputs": [],
   "source": [
    "#6. Lectura de datos."
   ]
  },
  {
   "cell_type": "code",
   "execution_count": 7,
   "metadata": {},
   "outputs": [
    {
     "data": {
      "text/html": [
       "<div>\n",
       "<style scoped>\n",
       "    .dataframe tbody tr th:only-of-type {\n",
       "        vertical-align: middle;\n",
       "    }\n",
       "\n",
       "    .dataframe tbody tr th {\n",
       "        vertical-align: top;\n",
       "    }\n",
       "\n",
       "    .dataframe thead th {\n",
       "        text-align: right;\n",
       "    }\n",
       "</style>\n",
       "<table border=\"1\" class=\"dataframe\">\n",
       "  <thead>\n",
       "    <tr style=\"text-align: right;\">\n",
       "      <th></th>\n",
       "      <th>Success</th>\n",
       "    </tr>\n",
       "  </thead>\n",
       "  <tbody>\n",
       "  </tbody>\n",
       "</table>\n",
       "</div>"
      ],
      "text/plain": [
       "Empty DataFrame\n",
       "Columns: [Success]\n",
       "Index: []"
      ]
     },
     "execution_count": 7,
     "metadata": {},
     "output_type": "execute_result"
    }
   ],
   "source": [
    "%%sql\n",
    "--ROLLBACK;\n",
    "create or replace table competencia_02 as\n",
    "select\n",
    "    *\n",
    "from read_csv_auto(\"{{dataset_input}}\")"
   ]
  },
  {
   "cell_type": "code",
   "execution_count": 8,
   "metadata": {},
   "outputs": [],
   "source": [
    "#7. Funciones útiles."
   ]
  },
  {
   "cell_type": "code",
   "execution_count": 9,
   "metadata": {},
   "outputs": [
    {
     "data": {
      "text/html": [
       "<div>\n",
       "<style scoped>\n",
       "    .dataframe tbody tr th:only-of-type {\n",
       "        vertical-align: middle;\n",
       "    }\n",
       "\n",
       "    .dataframe tbody tr th {\n",
       "        vertical-align: top;\n",
       "    }\n",
       "\n",
       "    .dataframe thead th {\n",
       "        text-align: right;\n",
       "    }\n",
       "</style>\n",
       "<table border=\"1\" class=\"dataframe\">\n",
       "  <thead>\n",
       "    <tr style=\"text-align: right;\">\n",
       "      <th></th>\n",
       "      <th>Success</th>\n",
       "    </tr>\n",
       "  </thead>\n",
       "  <tbody>\n",
       "  </tbody>\n",
       "</table>\n",
       "</div>"
      ],
      "text/plain": [
       "Empty DataFrame\n",
       "Columns: [Success]\n",
       "Index: []"
      ]
     },
     "execution_count": 9,
     "metadata": {},
     "output_type": "execute_result"
    }
   ],
   "source": [
    "%%sql\n",
    "CREATE OR REPLACE MACRO suma_sin_null(a, b) AS ifnull(a, 0) + ifnull(b, 0);"
   ]
  },
  {
   "cell_type": "code",
   "execution_count": 10,
   "metadata": {},
   "outputs": [
    {
     "data": {
      "text/html": [
       "<div>\n",
       "<style scoped>\n",
       "    .dataframe tbody tr th:only-of-type {\n",
       "        vertical-align: middle;\n",
       "    }\n",
       "\n",
       "    .dataframe tbody tr th {\n",
       "        vertical-align: top;\n",
       "    }\n",
       "\n",
       "    .dataframe thead th {\n",
       "        text-align: right;\n",
       "    }\n",
       "</style>\n",
       "<table border=\"1\" class=\"dataframe\">\n",
       "  <thead>\n",
       "    <tr style=\"text-align: right;\">\n",
       "      <th></th>\n",
       "      <th>Success</th>\n",
       "    </tr>\n",
       "  </thead>\n",
       "  <tbody>\n",
       "  </tbody>\n",
       "</table>\n",
       "</div>"
      ],
      "text/plain": [
       "Empty DataFrame\n",
       "Columns: [Success]\n",
       "Index: []"
      ]
     },
     "execution_count": 10,
     "metadata": {},
     "output_type": "execute_result"
    }
   ],
   "source": [
    "%%sql\n",
    "CREATE OR REPLACE MACRO division_segura(a, b) AS \n",
    "    CASE \n",
    "        WHEN ifnull(b, 0) = 0 THEN NULL \n",
    "        ELSE ifnull(a, 0) / ifnull(b, 1) \n",
    "    END;"
   ]
  },
  {
   "cell_type": "markdown",
   "metadata": {},
   "source": [
    "## B. Creación de variables intramensuales."
   ]
  },
  {
   "cell_type": "code",
   "execution_count": 11,
   "metadata": {},
   "outputs": [],
   "source": [
    "#i. Normalizo ctrx_quarter según la antigüedad del cliente."
   ]
  },
  {
   "cell_type": "code",
   "execution_count": 12,
   "metadata": {},
   "outputs": [
    {
     "data": {
      "text/html": [
       "<div>\n",
       "<style scoped>\n",
       "    .dataframe tbody tr th:only-of-type {\n",
       "        vertical-align: middle;\n",
       "    }\n",
       "\n",
       "    .dataframe tbody tr th {\n",
       "        vertical-align: top;\n",
       "    }\n",
       "\n",
       "    .dataframe thead th {\n",
       "        text-align: right;\n",
       "    }\n",
       "</style>\n",
       "<table border=\"1\" class=\"dataframe\">\n",
       "  <thead>\n",
       "    <tr style=\"text-align: right;\">\n",
       "      <th></th>\n",
       "      <th>Success</th>\n",
       "    </tr>\n",
       "  </thead>\n",
       "  <tbody>\n",
       "  </tbody>\n",
       "</table>\n",
       "</div>"
      ],
      "text/plain": [
       "Empty DataFrame\n",
       "Columns: [Success]\n",
       "Index: []"
      ]
     },
     "execution_count": 12,
     "metadata": {},
     "output_type": "execute_result"
    }
   ],
   "source": [
    "%%sql\n",
    "create or replace table competencia_02_norm as\n",
    "select *,\n",
    "    CASE \n",
    "        WHEN cliente_antiguedad = 1 THEN ctrx_quarter * 5\n",
    "        WHEN cliente_antiguedad = 2 THEN ctrx_quarter * 2\n",
    "        WHEN cliente_antiguedad = 3 THEN ctrx_quarter * 1.2\n",
    "        ELSE ctrx_quarter\n",
    "    END AS ctrx_quarter_normalizado,\n",
    "from competencia_02;"
   ]
  },
  {
   "cell_type": "code",
   "execution_count": 13,
   "metadata": {},
   "outputs": [],
   "source": [
    "#i. Sumo Métricas de VISA + MASTERCARD para tener un comportamiento total."
   ]
  },
  {
   "cell_type": "code",
   "execution_count": 14,
   "metadata": {},
   "outputs": [
    {
     "data": {
      "text/html": [
       "<div>\n",
       "<style scoped>\n",
       "    .dataframe tbody tr th:only-of-type {\n",
       "        vertical-align: middle;\n",
       "    }\n",
       "\n",
       "    .dataframe tbody tr th {\n",
       "        vertical-align: top;\n",
       "    }\n",
       "\n",
       "    .dataframe thead th {\n",
       "        text-align: right;\n",
       "    }\n",
       "</style>\n",
       "<table border=\"1\" class=\"dataframe\">\n",
       "  <thead>\n",
       "    <tr style=\"text-align: right;\">\n",
       "      <th></th>\n",
       "      <th>Success</th>\n",
       "    </tr>\n",
       "  </thead>\n",
       "  <tbody>\n",
       "  </tbody>\n",
       "</table>\n",
       "</div>"
      ],
      "text/plain": [
       "Empty DataFrame\n",
       "Columns: [Success]\n",
       "Index: []"
      ]
     },
     "execution_count": 14,
     "metadata": {},
     "output_type": "execute_result"
    }
   ],
   "source": [
    "%%sql\n",
    "create or replace table competencia_02_sumas as\n",
    "select *,\n",
    "    suma_sin_null(mtarjeta_visa_consumo, mtarjeta_master_consumo) as tc_consumo_total\n",
    "    , suma_sin_null(Master_mfinanciacion_limite,Visa_mfinanciacion_limite) as tc_financiacionlimite_total\n",
    "    , suma_sin_null(Master_msaldopesos,Visa_msaldopesos) as tc_saldopesos_total\n",
    "    , suma_sin_null(Master_msaldodolares,Visa_msaldodolares) as tc_saldodolares_total\n",
    "    , suma_sin_null(Master_mconsumospesos,Visa_mconsumospesos) as tc_consumopesos_total\n",
    "    , suma_sin_null(Master_mlimitecompra,Visa_mlimitecompra) as tc_limitecompra_total\n",
    "    , suma_sin_null(Master_madelantopesos,Visa_madelantopesos) as tc_adelantopesos_total\n",
    "    , suma_sin_null(Master_madelantodolares,Visa_madelantodolares) as tc_adelantodolares_total\n",
    "    , suma_sin_null(tc_adelantopesos_total,tc_adelantodolares_total) as tc_adelanto_total\n",
    "    # , suma_sin_null(Master_mpagado,Visa_mpagado) as tc_pagado_total\n",
    "    , suma_sin_null(Master_mpagospesos,Visa_mpagospesos) as tc_pagadopesos_total\n",
    "    , suma_sin_null(Master_mpagosdolares,Visa_mpagosdolares) as tc_pagadodolares_total\n",
    "    , suma_sin_null(Master_msaldototal,Visa_msaldototal) as tc_saldototal_total\n",
    "    , suma_sin_null(Master_mconsumototal,Visa_mconsumototal) as tc_consumototal_total\n",
    "    , suma_sin_null(Master_cconsumos,Visa_cconsumos) as tc_cconsumos_total\n",
    "    , suma_sin_null(Master_delinquency,Visa_delinquency) as tc_morosidad_total\n",
    "from competencia_02_norm;"
   ]
  },
  {
   "cell_type": "code",
   "execution_count": 15,
   "metadata": {},
   "outputs": [
    {
     "data": {
      "text/html": [
       "<div>\n",
       "<style scoped>\n",
       "    .dataframe tbody tr th:only-of-type {\n",
       "        vertical-align: middle;\n",
       "    }\n",
       "\n",
       "    .dataframe tbody tr th {\n",
       "        vertical-align: top;\n",
       "    }\n",
       "\n",
       "    .dataframe thead th {\n",
       "        text-align: right;\n",
       "    }\n",
       "</style>\n",
       "<table border=\"1\" class=\"dataframe\">\n",
       "  <thead>\n",
       "    <tr style=\"text-align: right;\">\n",
       "      <th></th>\n",
       "      <th>Success</th>\n",
       "    </tr>\n",
       "  </thead>\n",
       "  <tbody>\n",
       "  </tbody>\n",
       "</table>\n",
       "</div>"
      ],
      "text/plain": [
       "Empty DataFrame\n",
       "Columns: [Success]\n",
       "Index: []"
      ]
     },
     "execution_count": 15,
     "metadata": {},
     "output_type": "execute_result"
    }
   ],
   "source": [
    "%%sql\n",
    "create or replace table competencia_02_sumas as\n",
    "select\n",
    "    *\n",
    "    , greatest(Master_Fvencimiento, Visa_Fvencimiento) as tc_fvencimiento_mayor\n",
    "    , least(Master_Fvencimiento, Visa_Fvencimiento) as tc_fvencimiento_menor\n",
    "    , greatest(Master_fechaalta, Visa_fechaalta) as tc_fechaalta_mayor\n",
    "    , least(Master_fechaalta, Visa_fechaalta) as tc_fechalta_menor\n",
    "    , greatest(Master_Finiciomora,Visa_Finiciomora) as tc_fechamora_mayor\n",
    "    , least(Master_Finiciomora,Visa_Finiciomora) as tc_fechamora_menor\n",
    "    , greatest(Master_fultimo_cierre,Visa_fultimo_cierre) as tc_fechacierre_mayor\n",
    "    , least(Master_fultimo_cierre,Visa_fultimo_cierre) as tc_fechacierre_menor\n",
    "from competencia_02_sumas;"
   ]
  },
  {
   "cell_type": "code",
   "execution_count": 16,
   "metadata": {},
   "outputs": [],
   "source": [
    "#ii. Sumo Métricas de PESOS + DOLARES y PAYROLLS para tener un comportamiento total (mas allá de las incluidas previamente)."
   ]
  },
  {
   "cell_type": "code",
   "execution_count": 17,
   "metadata": {},
   "outputs": [
    {
     "data": {
      "text/html": [
       "<div>\n",
       "<style scoped>\n",
       "    .dataframe tbody tr th:only-of-type {\n",
       "        vertical-align: middle;\n",
       "    }\n",
       "\n",
       "    .dataframe tbody tr th {\n",
       "        vertical-align: top;\n",
       "    }\n",
       "\n",
       "    .dataframe thead th {\n",
       "        text-align: right;\n",
       "    }\n",
       "</style>\n",
       "<table border=\"1\" class=\"dataframe\">\n",
       "  <thead>\n",
       "    <tr style=\"text-align: right;\">\n",
       "      <th></th>\n",
       "      <th>Success</th>\n",
       "    </tr>\n",
       "  </thead>\n",
       "  <tbody>\n",
       "  </tbody>\n",
       "</table>\n",
       "</div>"
      ],
      "text/plain": [
       "Empty DataFrame\n",
       "Columns: [Success]\n",
       "Index: []"
      ]
     },
     "execution_count": 17,
     "metadata": {},
     "output_type": "execute_result"
    }
   ],
   "source": [
    "%%sql\n",
    "create or replace table competencia_02_sumas as\n",
    "select *\n",
    "    , suma_sin_null(mplazo_fijo_dolares, mplazo_fijo_pesos) as m_plazofijo_total\n",
    "    , suma_sin_null(minversion1_dolares, minversion1_pesos) as m_inversion1_total\n",
    "    , suma_sin_null(mpayroll, mpayroll2) as m_payroll_total\n",
    "    , suma_sin_null(cpayroll_trx, cpayroll2_trx) as c_payroll_total\n",
    "    , suma_sin_null(suma_sin_null(suma_sin_null(cseguro_vida, cseguro_auto), cseguro_vivienda), cseguro_accidentes_personales) as c_seguros_total\n",
    "from competencia_02_sumas"
   ]
  },
  {
   "cell_type": "code",
   "execution_count": 18,
   "metadata": {},
   "outputs": [],
   "source": [
    "#iii. Calculo Métricas de posición ante antigüedad, fechas de altas, etc."
   ]
  },
  {
   "cell_type": "code",
   "execution_count": 19,
   "metadata": {},
   "outputs": [
    {
     "data": {
      "text/html": [
       "<div>\n",
       "<style scoped>\n",
       "    .dataframe tbody tr th:only-of-type {\n",
       "        vertical-align: middle;\n",
       "    }\n",
       "\n",
       "    .dataframe tbody tr th {\n",
       "        vertical-align: top;\n",
       "    }\n",
       "\n",
       "    .dataframe thead th {\n",
       "        text-align: right;\n",
       "    }\n",
       "</style>\n",
       "<table border=\"1\" class=\"dataframe\">\n",
       "  <thead>\n",
       "    <tr style=\"text-align: right;\">\n",
       "      <th></th>\n",
       "      <th>Success</th>\n",
       "    </tr>\n",
       "  </thead>\n",
       "  <tbody>\n",
       "  </tbody>\n",
       "</table>\n",
       "</div>"
      ],
      "text/plain": [
       "Empty DataFrame\n",
       "Columns: [Success]\n",
       "Index: []"
      ]
     },
     "execution_count": 19,
     "metadata": {},
     "output_type": "execute_result"
    }
   ],
   "source": [
    "%%sql\n",
    "create or replace table competencia_02_sumas as\n",
    "select\n",
    "    *\n",
    "    , ntile(10) over (partition by foto_mes order by cliente_antiguedad) as cliente_antiguedad_6 # Corto la poblacion en 10, y le asigno una a cada cliente, según su posición de antigüedad.\n",
    "from competencia_02_sumas\n",
    "order by numero_de_cliente, cliente_antiguedad"
   ]
  },
  {
   "cell_type": "code",
   "execution_count": 20,
   "metadata": {},
   "outputs": [
    {
     "data": {
      "text/html": [
       "<div>\n",
       "<style scoped>\n",
       "    .dataframe tbody tr th:only-of-type {\n",
       "        vertical-align: middle;\n",
       "    }\n",
       "\n",
       "    .dataframe tbody tr th {\n",
       "        vertical-align: top;\n",
       "    }\n",
       "\n",
       "    .dataframe thead th {\n",
       "        text-align: right;\n",
       "    }\n",
       "</style>\n",
       "<table border=\"1\" class=\"dataframe\">\n",
       "  <thead>\n",
       "    <tr style=\"text-align: right;\">\n",
       "      <th></th>\n",
       "      <th>Success</th>\n",
       "    </tr>\n",
       "  </thead>\n",
       "  <tbody>\n",
       "  </tbody>\n",
       "</table>\n",
       "</div>"
      ],
      "text/plain": [
       "Empty DataFrame\n",
       "Columns: [Success]\n",
       "Index: []"
      ]
     },
     "execution_count": 20,
     "metadata": {},
     "output_type": "execute_result"
    }
   ],
   "source": [
    "%%sql\n",
    "create or replace table competencia_02_sumas as\n",
    "select\n",
    "    *\n",
    "    ,ntile(10) over (partition by foto_mes order by tc_fechaalta_mayor) as antiguedad_tarjetas\n",
    "from competencia_02_sumas\n",
    "order by numero_de_cliente, tc_fechaalta_mayor"
   ]
  },
  {
   "cell_type": "code",
   "execution_count": 21,
   "metadata": {},
   "outputs": [],
   "source": [
    "#iv. Calculo proporciones (Ej: Cantidades promedio, Visa/Mastercard, etc)."
   ]
  },
  {
   "cell_type": "code",
   "execution_count": 22,
   "metadata": {},
   "outputs": [
    {
     "data": {
      "text/html": [
       "<div>\n",
       "<style scoped>\n",
       "    .dataframe tbody tr th:only-of-type {\n",
       "        vertical-align: middle;\n",
       "    }\n",
       "\n",
       "    .dataframe tbody tr th {\n",
       "        vertical-align: top;\n",
       "    }\n",
       "\n",
       "    .dataframe thead th {\n",
       "        text-align: right;\n",
       "    }\n",
       "</style>\n",
       "<table border=\"1\" class=\"dataframe\">\n",
       "  <thead>\n",
       "    <tr style=\"text-align: right;\">\n",
       "      <th></th>\n",
       "      <th>Success</th>\n",
       "    </tr>\n",
       "  </thead>\n",
       "  <tbody>\n",
       "  </tbody>\n",
       "</table>\n",
       "</div>"
      ],
      "text/plain": [
       "Empty DataFrame\n",
       "Columns: [Success]\n",
       "Index: []"
      ]
     },
     "execution_count": 22,
     "metadata": {},
     "output_type": "execute_result"
    }
   ],
   "source": [
    "%%sql\n",
    "create or replace table competencia_02_sumas as\n",
    "select *\n",
    "    , division_segura(m_plazofijo_total, cplazo_fijo) as m_promedio_plazofijo_total\n",
    "    , division_segura(m_inversion1_total, cinversion1) as m_promedio_inversion_total\n",
    "    , division_segura(mcaja_ahorro, ccaja_ahorro) as m_promedio_caja_ahorro\n",
    "    , division_segura(mtarjeta_visa_consumo, ctarjeta_visa_transacciones) as m_promedio_tarjeta_visa_consumo_por_transaccion\n",
    "    , division_segura(mtarjeta_master_consumo, ctarjeta_master_transacciones) as m_promedio_tarjeta_master_consumo_por_transaccion\n",
    "    , division_segura(mprestamos_prendarios, cprestamos_prendarios) as m_promedio_prestamos_prendarios\n",
    "    , division_segura(mprestamos_hipotecarios, cprestamos_hipotecarios) as m_promedio_prestamos_hipotecarios\n",
    "    , division_segura(minversion2, cinversion2) as m_promedio_inversion2\n",
    "    , division_segura(mpagodeservicios, cpagodeservicios) as m_promedio_pagodeservicios\n",
    "    , division_segura(mpagomiscuentas, cpagomiscuentas) as m_promedio_pagomiscuentas\n",
    "    , division_segura(mcajeros_propios_descuentos, ccajeros_propios_descuentos) as m_promedio_cajeros_propios_descuentos\n",
    "    , division_segura(mtarjeta_visa_descuentos, ctarjeta_visa_descuentos) as m_promedio_tarjeta_visa_descuentos\n",
    "    , division_segura(mtarjeta_master_descuentos, ctarjeta_master_descuentos) as m_promedio_tarjeta_master_descuentos\n",
    "    , division_segura(mcomisiones_mantenimiento, ccomisiones_mantenimiento) as m_promedio_comisiones_mantenimiento\n",
    "    , division_segura(mcomisiones_otras, ccomisiones_otras) as m_promedio_comisiones_otras\n",
    "    , division_segura(mforex_buy, cforex_buy) as m_promedio_forex_buy\n",
    "    , division_segura(mtransferencias_recibidas, ctransferencias_recibidas) as m_promedio_transferencias_recibidas\n",
    "    , division_segura(mtransferencias_emitidas, ctransferencias_emitidas) as m_promedio_transferencias_emitidas\n",
    "    , division_segura(mextraccion_autoservicio, cextraccion_autoservicio) as m_promedio_extraccion_autoservicio\n",
    "    , division_segura(mcheques_depositados, ccheques_depositados) as m_promedio_cheques_depositados\n",
    "    , division_segura(mcheques_emitidos, ccheques_emitidos) as m_promedio_cheques_emitidos\n",
    "    , division_segura(mcheques_depositados_rechazados, ccheques_depositados_rechazados) as m_promedio_cheques_depositados_rechazados\n",
    "    , division_segura(mcheques_emitidos_rechazados, ccheques_emitidos_rechazados) as m_promedio_cheques_emitidos_rechazados\n",
    "    , division_segura(matm, catm_trx) as m_promedio_atm\n",
    "    , division_segura(matm_other, catm_trx_other) as m_promedio_atm_other\n",
    "    , division_segura(Master_msaldototal,Master_mfinanciacion_limite) as proporcion_financiacion_master_cubierto\n",
    "    , division_segura(Master_msaldototal,Master_mlimitecompra) as proporcion_limite_master_cubierto\n",
    "    , division_segura(Visa_msaldototal,Visa_mfinanciacion_limite) as proporcion_financiacion_visa_cubierto\n",
    "    , division_segura(Visa_msaldototal,Visa_mlimitecompra) as proporcion_limite_visa_cubierto\n",
    "    , division_segura(tc_saldototal_total,tc_financiacionlimite_total) as proporcion_financiacion_total_cubierto\n",
    "    , division_segura(tc_saldototal_total,tc_limitecompra_total) as proporcion_limite_total_cubierto\n",
    "    , division_segura(tc_saldopesos_total,tc_saldototal_total) as tc_proporcion_saldo_pesos\n",
    "    , division_segura(tc_saldodolares_total,tc_saldototal_total) as tc_proporcion_saldo_dolares\n",
    "    , division_segura(tc_consumopesos_total,tc_consumototal_total) as tc_proporcion_consumo_pesos\n",
    "    , division_segura(tc_consumototal_total,tc_limitecompra_total) as tc_proporcion_consumo_total_limite_total_cubierto\n",
    "    # , division_segura(tc_pagadopesos_total,tc_pagado_total) as tc_proporcion_pago_pesos\n",
    "    # , division_segura(tc_pagadodolares_total,tc_pagado_total) as tc_proporcion_pago_dolares\n",
    "    , division_segura(tc_adelantopesos_total,tc_adelanto_total) as tc_proporcion_adelanto_pesos\n",
    "    , division_segura(tc_adelantodolares_total,tc_adelanto_total) as tc_proporcion_adelanto_dolares\n",
    "from competencia_02_sumas"
   ]
  },
  {
   "cell_type": "markdown",
   "metadata": {},
   "source": [
    "## C. Creación de variables intermensuales (Data Drifting)."
   ]
  },
  {
   "cell_type": "markdown",
   "metadata": {},
   "source": [
    "#### 1. Campos a trabajar/crear."
   ]
  },
  {
   "cell_type": "code",
   "execution_count": 23,
   "metadata": {},
   "outputs": [],
   "source": [
    "campos_iniciales = [\n",
    "    \"mrentabilidad\",\"mrentabilidad_annual\",\"mcomisiones\",\"mactivos_margen\",\"mpasivos_margen\",\"cproductos\",\"mcuenta_corriente\",\n",
    "    \"ccaja_ahorro\",\"mcaja_ahorro\",\"mcaja_ahorro_adicional\",\"mcaja_ahorro_dolares\",\"mcuentas_saldo\",\"ctarjeta_debito\",\"ctarjeta_debito_transacciones\",\n",
    "    \"mautoservicio\",\"ctarjeta_visa_transacciones\",\"mtarjeta_visa_consumo\",\"ctarjeta_master_transacciones\",\"mtarjeta_master_consumo\",\n",
    "    \"cprestamos_prendarios\",\"mprestamos_prendarios\",\"cprestamos_hipotecarios\",\"mprestamos_hipotecarios\",\n",
    "    \"cplazo_fijo\",\"mplazo_fijo_dolares\",\"mplazo_fijo_pesos\",\"cinversion1\",\"minversion1_pesos\",\"minversion1_dolares\",\"cinversion2\",\n",
    "    \"minversion2\",\n",
    "    \"mpayroll\",\n",
    "    \"mpayroll2\",\"ccuenta_debitos_automaticos\",\"mcuenta_debitos_automaticos\",\"ctarjeta_visa_debitos_automaticos\",\n",
    "    \"mttarjeta_master_debitos_automaticos\",\"cpagodeservicios\",\"mpagodeservicios\",\"cpagomiscuentas\",\"mpagomiscuentas\",\"ccajeros_propios_descuentos\",\"mcajeros_propios_descuentos\",\n",
    "    \"ctarjeta_visa_descuentos\",\"mtarjeta_visa_descuentos\",\"ctarjeta_master_descuentos\",\"mtarjeta_master_descuentos\",\"ccomisiones_mantenimiento\",\n",
    "    \"mcomisiones_mantenimiento\",\"ccomisiones_otras\",\"mcomisiones_otras\",\"mforex_buy\",\n",
    "    \"ctransferencias_recibidas\",\"mtransferencias_recibidas\",\"ctransferencias_emitidas\",\"mtransferencias_emitidas\",\n",
    "    \"cextraccion_autoservicio\",\"mextraccion_autoservicio\",\"ccheques_depositados\",\"mcheques_depositados\",\"ccheques_emitidos\",\"mcheques_emitidos\",\n",
    "    \"ccheques_depositados_rechazados\",\"mcheques_depositados_rechazados\",\"ccheques_emitidos_rechazados\",\"mcheques_emitidos_rechazados\",\n",
    "    \"chomebanking_transacciones\",\"ccajas_consultas\",\"ccajas_depositos\",\n",
    "    \"ccajas_otras\",\"catm_trx\",\"matm\",\"catm_trx_other\",\"matm_other\",\"ctrx_quarter\",\"Master_msaldototal\",\n",
    "    \"Master_msaldopesos\",\"Master_msaldodolares\",\"Master_mconsumospesos\",\"Master_mconsumosdolares\",\"Master_mlimitecompra\",\"Master_madelantopesos\",\n",
    "    \"Master_madelantodolares\",\"Master_mpagado\",\"Master_mpagospesos\",\"Master_mpagosdolares\",\"Master_mconsumototal\",\"Master_cconsumos\",\n",
    "    \"Master_cadelantosefectivo\",\"Visa_msaldototal\",\"Visa_msaldopesos\",\"Visa_msaldodolares\",\"Visa_mconsumospesos\",\"Visa_mlimitecompra\",\n",
    "    \"Visa_madelantopesos\",\"Visa_madelantodolares\",\"Visa_mpagospesos\",\"Visa_mpagosdolares\",\"Visa_mconsumototal\",\"Visa_cconsumos\",\"Visa_cadelantosefectivo\",\"cmobile_app_trx\",\n",
    "    # \"Visa_mpagado\"\n",
    "]\n",
    "\n",
    "campos_adicionales = [\n",
    "    \"tc_consumo_total\",\"tc_financiacionlimite_total\",\"tc_saldopesos_total\",\"tc_saldodolares_total\",\"tc_consumopesos_total\",\n",
    "    \"tc_limitecompra_total\",\"tc_adelantopesos_total\",\"tc_adelantodolares_total\",\"tc_adelanto_total\",\n",
    "    \"tc_pagadopesos_total\",\"tc_pagadodolares_total\",\"tc_saldototal_total\",\"tc_consumototal_total\",\"tc_cconsumos_total\",\n",
    "    \"tc_morosidad_total\",\n",
    "    # \"tc_pagado_total\",\n",
    "    \"m_promedio_plazofijo_total\",\"m_promedio_inversion_total\",\"m_promedio_caja_ahorro\",\"m_promedio_tarjeta_visa_consumo_por_transaccion\",\n",
    "    \"m_promedio_tarjeta_master_consumo_por_transaccion\",\"m_promedio_prestamos_prendarios\",\"m_promedio_prestamos_hipotecarios\",\"m_promedio_inversion2\",\n",
    "    \"m_promedio_pagodeservicios\",\"m_promedio_pagomiscuentas\",\"m_promedio_cajeros_propios_descuentos\",\"m_promedio_tarjeta_visa_descuentos\",\n",
    "    \"m_promedio_tarjeta_master_descuentos\",\"m_promedio_comisiones_mantenimiento\",\"m_promedio_comisiones_otras\",\"m_promedio_forex_buy\",\n",
    "    \"m_promedio_transferencias_recibidas\",\"m_promedio_transferencias_emitidas\",\"m_promedio_extraccion_autoservicio\",\n",
    "    \"m_promedio_cheques_depositados\",\"m_promedio_cheques_emitidos\",\"m_promedio_cheques_depositados_rechazados\",\"m_promedio_cheques_emitidos_rechazados\",\n",
    "    \"m_promedio_atm\",\"m_promedio_atm_other\",\"proporcion_financiacion_master_cubierto\",\"proporcion_limite_master_cubierto\",\"proporcion_financiacion_visa_cubierto\",\n",
    "    \"proporcion_limite_visa_cubierto\",\"proporcion_financiacion_total_cubierto\",\"proporcion_limite_total_cubierto\",\"tc_proporcion_consumo_total_limite_total_cubierto\",\n",
    "    \"tc_proporcion_saldo_pesos\",\"tc_proporcion_saldo_dolares\",\"tc_proporcion_consumo_pesos\",\"tc_proporcion_adelanto_pesos\",\n",
    "    \"tc_proporcion_adelanto_dolares\",\n",
    "    #\"tc_proporcion_pago_pesos\",\n",
    "    #\"tc_proporcion_pago_dolares\"\n",
    "]\n",
    "\n",
    "campos = campos_iniciales + campos_adicionales\n"
   ]
  },
  {
   "cell_type": "markdown",
   "metadata": {},
   "source": [
    "#### 2. Referencia entrenar información con ciertos meses, y df -ventana meses."
   ]
  },
  {
   "cell_type": "code",
   "execution_count": 24,
   "metadata": {},
   "outputs": [],
   "source": [
    "#a. Pendiente de la regresión lineal.\n",
    "#i. Creo los features para obtener la pendiente de la regresión lineal.\n",
    "nuevos_features =\"\"\n",
    "for campo in campos:\n",
    "  nuevos_features += f\"\\n, regr_slope({campo}, cliente_antiguedad) over ventana_{ventana} as {campo}_slope_{ventana}\""
   ]
  },
  {
   "cell_type": "code",
   "execution_count": 25,
   "metadata": {},
   "outputs": [],
   "source": [
    "#ii. Ejecuto."
   ]
  },
  {
   "cell_type": "code",
   "execution_count": 26,
   "metadata": {},
   "outputs": [
    {
     "data": {
      "text/html": [
       "<div>\n",
       "<style scoped>\n",
       "    .dataframe tbody tr th:only-of-type {\n",
       "        vertical-align: middle;\n",
       "    }\n",
       "\n",
       "    .dataframe tbody tr th {\n",
       "        vertical-align: top;\n",
       "    }\n",
       "\n",
       "    .dataframe thead th {\n",
       "        text-align: right;\n",
       "    }\n",
       "</style>\n",
       "<table border=\"1\" class=\"dataframe\">\n",
       "  <thead>\n",
       "    <tr style=\"text-align: right;\">\n",
       "      <th></th>\n",
       "      <th>Success</th>\n",
       "    </tr>\n",
       "  </thead>\n",
       "  <tbody>\n",
       "  </tbody>\n",
       "</table>\n",
       "</div>"
      ],
      "text/plain": [
       "Empty DataFrame\n",
       "Columns: [Success]\n",
       "Index: []"
      ]
     },
     "execution_count": 26,
     "metadata": {},
     "output_type": "execute_result"
    }
   ],
   "source": [
    "%%sql\n",
    "create or replace table competencia_02_sumas_drifting as\n",
    "select *\n",
    "  {{nuevos_features}}\n",
    "from competencia_02_sumas\n",
    "window ventana_{{ventana}} as (partition by numero_de_cliente order by foto_mes rows between {{ventana}} preceding and current row)\n"
   ]
  },
  {
   "cell_type": "code",
   "execution_count": 27,
   "metadata": {},
   "outputs": [],
   "source": [
    "#b. Calculo valor actual vs acumulado historico y vs promedio histórico.\n",
    "#i. Creo los features necesarios para dicho fin.\n",
    "nuevos_features = \"\"\n",
    "for campo in campos:\n",
    "    nuevos_features += f'''\n",
    "                         , division_segura({campo}, avg(COALESCE({campo}, 0)) over ventana_hist) as ratio_actual_{campo}\n",
    "                         , sum(COALESCE({campo}, 0)) over ventana_hist as sumcum_{campo}\n",
    "                         , avg(COALESCE({campo}, 0)) over ventana_hist as avg_historico_{campo}\n",
    "                         '''"
   ]
  },
  {
   "cell_type": "code",
   "execution_count": 28,
   "metadata": {},
   "outputs": [],
   "source": [
    "#ii. Ejecuto."
   ]
  },
  {
   "cell_type": "code",
   "execution_count": 29,
   "metadata": {},
   "outputs": [
    {
     "data": {
      "text/html": [
       "<div>\n",
       "<style scoped>\n",
       "    .dataframe tbody tr th:only-of-type {\n",
       "        vertical-align: middle;\n",
       "    }\n",
       "\n",
       "    .dataframe tbody tr th {\n",
       "        vertical-align: top;\n",
       "    }\n",
       "\n",
       "    .dataframe thead th {\n",
       "        text-align: right;\n",
       "    }\n",
       "</style>\n",
       "<table border=\"1\" class=\"dataframe\">\n",
       "  <thead>\n",
       "    <tr style=\"text-align: right;\">\n",
       "      <th></th>\n",
       "      <th>Success</th>\n",
       "    </tr>\n",
       "  </thead>\n",
       "  <tbody>\n",
       "  </tbody>\n",
       "</table>\n",
       "</div>"
      ],
      "text/plain": [
       "Empty DataFrame\n",
       "Columns: [Success]\n",
       "Index: []"
      ]
     },
     "execution_count": 29,
     "metadata": {},
     "output_type": "execute_result"
    }
   ],
   "source": [
    "%%sql\n",
    "create or replace table competencia_02_sumas_drifting as\n",
    "select *\n",
    "  {{nuevos_features}}\n",
    "from competencia_02_sumas_drifting\n",
    "window ventana_hist as (partition by numero_de_cliente order by foto_mes rows between {{ventana}} preceding and current row);"
   ]
  },
  {
   "cell_type": "code",
   "execution_count": null,
   "metadata": {},
   "outputs": [],
   "source": [
    "#c. Exportación."
   ]
  },
  {
   "cell_type": "code",
   "execution_count": 31,
   "metadata": {},
   "outputs": [],
   "source": [
    "# Crear el array con las rutas completas de los archivos .parquet\n",
    "files = [datasets_path + f\"{mes}_{ventana}.parquet\" for mes in mes_all]\n",
    "for i in range(0, len(mes_all)):\n",
    "    # Ejecutar el comando COPY para el mes actual\n",
    "    mes = mes_all[i]\n",
    "    file = files[i]\n",
    "    consulta = f\"\"\"\n",
    "    COPY (SELECT * FROM competencia_02_sumas_drifting \n",
    "    WHERE foto_mes = {mes})\n",
    "    TO '{file}' (FORMAT PARQUET);\n",
    "    \"\"\"\n",
    "    # Ejecutar la consulta generada\n",
    "    %sql {{consulta}}\n"
   ]
  },
  {
   "cell_type": "code",
   "execution_count": null,
   "metadata": {},
   "outputs": [],
   "source": [
    "#%%sql\n",
    "#COPY competencia_02_sumas_drifting TO '{{dataset_output}}' (FORMAT PARQUET);"
   ]
  }
 ],
 "metadata": {
  "kernelspec": {
   "display_name": "Python 3 (ipykernel)",
   "language": "python",
   "name": "python3"
  },
  "language_info": {
   "codemirror_mode": {
    "name": "ipython",
    "version": 3
   },
   "file_extension": ".py",
   "mimetype": "text/x-python",
   "name": "python",
   "nbconvert_exporter": "python",
   "pygments_lexer": "ipython3",
   "version": "3.12.3"
  }
 },
 "nbformat": 4,
 "nbformat_minor": 4
}
