{
 "cells": [
  {
   "cell_type": "markdown",
   "metadata": {},
   "source": [
    "## A. Configuración General."
   ]
  },
  {
   "cell_type": "code",
   "execution_count": 1,
   "metadata": {},
   "outputs": [
    {
     "data": {
      "text/html": [
       "<style type='text/css'>\n",
       ".datatable table.frame { margin-bottom: 0; }\n",
       ".datatable table.frame thead { border-bottom: none; }\n",
       ".datatable table.frame tr.coltypes td {  color: #FFFFFF;  line-height: 6px;  padding: 0 0.5em;}\n",
       ".datatable .bool    { background: #DDDD99; }\n",
       ".datatable .object  { background: #565656; }\n",
       ".datatable .int     { background: #5D9E5D; }\n",
       ".datatable .float   { background: #4040CC; }\n",
       ".datatable .str     { background: #CC4040; }\n",
       ".datatable .time    { background: #40CC40; }\n",
       ".datatable .row_index {  background: var(--jp-border-color3);  border-right: 1px solid var(--jp-border-color0);  color: var(--jp-ui-font-color3);  font-size: 9px;}\n",
       ".datatable .frame tbody td { text-align: left; }\n",
       ".datatable .frame tr.coltypes .row_index {  background: var(--jp-border-color0);}\n",
       ".datatable th:nth-child(2) { padding-left: 12px; }\n",
       ".datatable .hellipsis {  color: var(--jp-cell-editor-border-color);}\n",
       ".datatable .vellipsis {  background: var(--jp-layout-color0);  color: var(--jp-cell-editor-border-color);}\n",
       ".datatable .na {  color: var(--jp-cell-editor-border-color);  font-size: 80%;}\n",
       ".datatable .sp {  opacity: 0.25;}\n",
       ".datatable .footer { font-size: 9px; }\n",
       ".datatable .frame_dimensions {  background: var(--jp-border-color3);  border-top: 1px solid var(--jp-border-color0);  color: var(--jp-ui-font-color3);  display: inline-block;  opacity: 0.6;  padding: 1px 10px 1px 5px;}\n",
       "</style>\n"
      ],
      "text/plain": [
       "<IPython.core.display.HTML object>"
      ]
     },
     "metadata": {},
     "output_type": "display_data"
    },
    {
     "name": "stderr",
     "output_type": "stream",
     "text": [
      "/home/gmasi/.venv/lib/python3.12/site-packages/dask/dataframe/__init__.py:42: FutureWarning: \n",
      "Dask dataframe query planning is disabled because dask-expr is not installed.\n",
      "\n",
      "You can install it with `pip install dask[dataframe]` or `conda install dask`.\n",
      "This will raise in a future version.\n",
      "\n",
      "  warnings.warn(msg, FutureWarning)\n",
      "/home/gmasi/.venv/lib/python3.12/site-packages/tqdm/auto.py:21: TqdmWarning: IProgress not found. Please update jupyter and ipywidgets. See https://ipywidgets.readthedocs.io/en/stable/user_install.html\n",
      "  from .autonotebook import tqdm as notebook_tqdm\n"
     ]
    }
   ],
   "source": [
    "#1. Librerías.\n",
    "%run \"../librerias.ipynb\""
   ]
  },
  {
   "cell_type": "code",
   "execution_count": 2,
   "metadata": {},
   "outputs": [],
   "source": [
    "#3. Constantes.\n",
    "%run \"../constantes.ipynb\"\n",
    "\n",
    "dataset_preprocesado = dataset_file_fe_all_3\n",
    "\n",
    "cantidad_meses_train = \"all\"\n",
    "ventana = 3\n",
    "\n",
    "mes_train = mes_train_all_menos_3\n",
    "mes_test = mes_test"
   ]
  },
  {
   "cell_type": "code",
   "execution_count": 3,
   "metadata": {},
   "outputs": [],
   "source": [
    "#4. Funciones\n",
    "%run \"../funciones.ipynb\""
   ]
  },
  {
   "cell_type": "code",
   "execution_count": 4,
   "metadata": {},
   "outputs": [],
   "source": [
    "#5. Lectura de datos.\n",
    "files = [datasets_path + f\"{mes}_{ventana}.parquet\" for mes in mes_train + [mes_test]]\n",
    "\n",
    "# Leer y combinar archivos\n",
    "data = pd.concat([pd.read_parquet(file) for file in files], ignore_index=True)"
   ]
  },
  {
   "cell_type": "code",
   "execution_count": 5,
   "metadata": {},
   "outputs": [],
   "source": [
    "#6. Pequeño pre-procesamiento sobre los datos.\n",
    "#i. Cambio tipos de datos (Me lo toma como tipo de dato \"object\"...)\n",
    "data['ctrx_quarter_normalizado'] = data['ctrx_quarter_normalizado'].astype(float)\n",
    "#ii. Elimino columnas de último momento por Data Concept.\n",
    "# columnas_de_interes_prestamos = data.filter(like='prestamos_personales').columns\n",
    "# data.drop(columnas_de_interes_prestamos,axis=1,inplace=True)\n",
    "#iii. Pesos y reclusterización.\n",
    "data['clase_peso'] = 1.0\n",
    "        \n",
    "data.loc[data['clase_ternaria'] == 'BAJA+2', 'clase_peso'] = 1.00002\n",
    "data.loc[data['clase_ternaria'] == 'BAJA+1', 'clase_peso'] = 1.00001\n",
    "\n",
    "data['clase_binaria1'] = np.where(data['clase_ternaria'] == 'BAJA+2', 1, 0)\n",
    "data['clase_binaria2'] = np.where(data['clase_ternaria'] == 'CONTINUA', 0, 1)\n"
   ]
  },
  {
   "cell_type": "code",
   "execution_count": 6,
   "metadata": {},
   "outputs": [],
   "source": [
    "#iv. Divido entre Train y Test.\n",
    "train_data = data[data['foto_mes'].isin(mes_train)]\n",
    "test_data = data[data['foto_mes'] == mes_test]"
   ]
  },
  {
   "cell_type": "code",
   "execution_count": 7,
   "metadata": {},
   "outputs": [
    {
     "data": {
      "text/plain": [
       "40"
      ]
     },
     "execution_count": 7,
     "metadata": {},
     "output_type": "execute_result"
    }
   ],
   "source": [
    "del data\n",
    "import gc\n",
    "gc.collect()"
   ]
  },
  {
   "cell_type": "code",
   "execution_count": 8,
   "metadata": {},
   "outputs": [
    {
     "data": {
      "text/html": [
       "<div>\n",
       "<style scoped>\n",
       "    .dataframe tbody tr th:only-of-type {\n",
       "        vertical-align: middle;\n",
       "    }\n",
       "\n",
       "    .dataframe tbody tr th {\n",
       "        vertical-align: top;\n",
       "    }\n",
       "\n",
       "    .dataframe thead th {\n",
       "        text-align: right;\n",
       "    }\n",
       "</style>\n",
       "<table border=\"1\" class=\"dataframe\">\n",
       "  <thead>\n",
       "    <tr style=\"text-align: right;\">\n",
       "      <th></th>\n",
       "      <th>numero_de_cliente</th>\n",
       "      <th>foto_mes</th>\n",
       "      <th>active_quarter</th>\n",
       "      <th>cliente_vip</th>\n",
       "      <th>cliente_edad</th>\n",
       "      <th>cliente_antiguedad</th>\n",
       "      <th>mrentabilidad</th>\n",
       "      <th>mrentabilidad_annual</th>\n",
       "      <th>mcomisiones</th>\n",
       "      <th>mactivos_margen</th>\n",
       "      <th>...</th>\n",
       "      <th>avg_historico_tc_proporcion_consumo_pesos</th>\n",
       "      <th>ratio_actual_tc_proporcion_adelanto_pesos</th>\n",
       "      <th>sumcum_tc_proporcion_adelanto_pesos</th>\n",
       "      <th>avg_historico_tc_proporcion_adelanto_pesos</th>\n",
       "      <th>ratio_actual_tc_proporcion_adelanto_dolares</th>\n",
       "      <th>sumcum_tc_proporcion_adelanto_dolares</th>\n",
       "      <th>avg_historico_tc_proporcion_adelanto_dolares</th>\n",
       "      <th>clase_peso</th>\n",
       "      <th>clase_binaria1</th>\n",
       "      <th>clase_binaria2</th>\n",
       "    </tr>\n",
       "  </thead>\n",
       "  <tbody>\n",
       "    <tr>\n",
       "      <th>0</th>\n",
       "      <td>869143884</td>\n",
       "      <td>201904</td>\n",
       "      <td>1</td>\n",
       "      <td>0</td>\n",
       "      <td>56</td>\n",
       "      <td>104</td>\n",
       "      <td>5303.092950</td>\n",
       "      <td>65073.348317</td>\n",
       "      <td>1190.351318</td>\n",
       "      <td>1092.186603</td>\n",
       "      <td>...</td>\n",
       "      <td>1.0</td>\n",
       "      <td>NaN</td>\n",
       "      <td>0.0</td>\n",
       "      <td>0.0</td>\n",
       "      <td>NaN</td>\n",
       "      <td>0.0</td>\n",
       "      <td>0.0</td>\n",
       "      <td>1.0</td>\n",
       "      <td>0</td>\n",
       "      <td>0</td>\n",
       "    </tr>\n",
       "    <tr>\n",
       "      <th>1</th>\n",
       "      <td>869364346</td>\n",
       "      <td>201904</td>\n",
       "      <td>1</td>\n",
       "      <td>0</td>\n",
       "      <td>42</td>\n",
       "      <td>111</td>\n",
       "      <td>92.970157</td>\n",
       "      <td>18200.432998</td>\n",
       "      <td>0.000000</td>\n",
       "      <td>26.203259</td>\n",
       "      <td>...</td>\n",
       "      <td>1.0</td>\n",
       "      <td>NaN</td>\n",
       "      <td>0.0</td>\n",
       "      <td>0.0</td>\n",
       "      <td>NaN</td>\n",
       "      <td>0.0</td>\n",
       "      <td>0.0</td>\n",
       "      <td>1.0</td>\n",
       "      <td>0</td>\n",
       "      <td>0</td>\n",
       "    </tr>\n",
       "    <tr>\n",
       "      <th>2</th>\n",
       "      <td>869463381</td>\n",
       "      <td>201904</td>\n",
       "      <td>1</td>\n",
       "      <td>0</td>\n",
       "      <td>38</td>\n",
       "      <td>110</td>\n",
       "      <td>2412.401842</td>\n",
       "      <td>33321.770262</td>\n",
       "      <td>724.259510</td>\n",
       "      <td>-165.428020</td>\n",
       "      <td>...</td>\n",
       "      <td>1.0</td>\n",
       "      <td>NaN</td>\n",
       "      <td>0.0</td>\n",
       "      <td>0.0</td>\n",
       "      <td>NaN</td>\n",
       "      <td>0.0</td>\n",
       "      <td>0.0</td>\n",
       "      <td>1.0</td>\n",
       "      <td>0</td>\n",
       "      <td>0</td>\n",
       "    </tr>\n",
       "    <tr>\n",
       "      <th>3</th>\n",
       "      <td>869649487</td>\n",
       "      <td>201904</td>\n",
       "      <td>1</td>\n",
       "      <td>0</td>\n",
       "      <td>32</td>\n",
       "      <td>90</td>\n",
       "      <td>1603.061519</td>\n",
       "      <td>42416.606051</td>\n",
       "      <td>548.247359</td>\n",
       "      <td>-1185.422694</td>\n",
       "      <td>...</td>\n",
       "      <td>1.0</td>\n",
       "      <td>NaN</td>\n",
       "      <td>0.0</td>\n",
       "      <td>0.0</td>\n",
       "      <td>NaN</td>\n",
       "      <td>0.0</td>\n",
       "      <td>0.0</td>\n",
       "      <td>1.0</td>\n",
       "      <td>0</td>\n",
       "      <td>0</td>\n",
       "    </tr>\n",
       "    <tr>\n",
       "      <th>4</th>\n",
       "      <td>869743570</td>\n",
       "      <td>201904</td>\n",
       "      <td>1</td>\n",
       "      <td>0</td>\n",
       "      <td>43</td>\n",
       "      <td>110</td>\n",
       "      <td>2262.149729</td>\n",
       "      <td>19974.578045</td>\n",
       "      <td>1621.800927</td>\n",
       "      <td>-288.306770</td>\n",
       "      <td>...</td>\n",
       "      <td>1.0</td>\n",
       "      <td>NaN</td>\n",
       "      <td>0.0</td>\n",
       "      <td>0.0</td>\n",
       "      <td>NaN</td>\n",
       "      <td>0.0</td>\n",
       "      <td>0.0</td>\n",
       "      <td>1.0</td>\n",
       "      <td>0</td>\n",
       "      <td>0</td>\n",
       "    </tr>\n",
       "    <tr>\n",
       "      <th>...</th>\n",
       "      <td>...</td>\n",
       "      <td>...</td>\n",
       "      <td>...</td>\n",
       "      <td>...</td>\n",
       "      <td>...</td>\n",
       "      <td>...</td>\n",
       "      <td>...</td>\n",
       "      <td>...</td>\n",
       "      <td>...</td>\n",
       "      <td>...</td>\n",
       "      <td>...</td>\n",
       "      <td>...</td>\n",
       "      <td>...</td>\n",
       "      <td>...</td>\n",
       "      <td>...</td>\n",
       "      <td>...</td>\n",
       "      <td>...</td>\n",
       "      <td>...</td>\n",
       "      <td>...</td>\n",
       "      <td>...</td>\n",
       "      <td>...</td>\n",
       "    </tr>\n",
       "    <tr>\n",
       "      <th>4193159</th>\n",
       "      <td>1147991305</td>\n",
       "      <td>202107</td>\n",
       "      <td>1</td>\n",
       "      <td>0</td>\n",
       "      <td>24</td>\n",
       "      <td>69</td>\n",
       "      <td>101.036840</td>\n",
       "      <td>464.823808</td>\n",
       "      <td>0.000000</td>\n",
       "      <td>85.603783</td>\n",
       "      <td>...</td>\n",
       "      <td>0.0</td>\n",
       "      <td>NaN</td>\n",
       "      <td>0.0</td>\n",
       "      <td>0.0</td>\n",
       "      <td>NaN</td>\n",
       "      <td>0.0</td>\n",
       "      <td>0.0</td>\n",
       "      <td>1.0</td>\n",
       "      <td>0</td>\n",
       "      <td>0</td>\n",
       "    </tr>\n",
       "    <tr>\n",
       "      <th>4193160</th>\n",
       "      <td>1148071168</td>\n",
       "      <td>202107</td>\n",
       "      <td>1</td>\n",
       "      <td>0</td>\n",
       "      <td>43</td>\n",
       "      <td>69</td>\n",
       "      <td>502.342905</td>\n",
       "      <td>16256.831511</td>\n",
       "      <td>277.437926</td>\n",
       "      <td>-266.359972</td>\n",
       "      <td>...</td>\n",
       "      <td>0.0</td>\n",
       "      <td>NaN</td>\n",
       "      <td>0.0</td>\n",
       "      <td>0.0</td>\n",
       "      <td>NaN</td>\n",
       "      <td>0.0</td>\n",
       "      <td>0.0</td>\n",
       "      <td>1.0</td>\n",
       "      <td>0</td>\n",
       "      <td>0</td>\n",
       "    </tr>\n",
       "    <tr>\n",
       "      <th>4193161</th>\n",
       "      <td>1148921495</td>\n",
       "      <td>202107</td>\n",
       "      <td>1</td>\n",
       "      <td>0</td>\n",
       "      <td>44</td>\n",
       "      <td>47</td>\n",
       "      <td>1868.898195</td>\n",
       "      <td>24788.191346</td>\n",
       "      <td>1515.024716</td>\n",
       "      <td>228.662323</td>\n",
       "      <td>...</td>\n",
       "      <td>1.0</td>\n",
       "      <td>NaN</td>\n",
       "      <td>0.0</td>\n",
       "      <td>0.0</td>\n",
       "      <td>NaN</td>\n",
       "      <td>0.0</td>\n",
       "      <td>0.0</td>\n",
       "      <td>1.0</td>\n",
       "      <td>0</td>\n",
       "      <td>0</td>\n",
       "    </tr>\n",
       "    <tr>\n",
       "      <th>4193162</th>\n",
       "      <td>1149218456</td>\n",
       "      <td>202107</td>\n",
       "      <td>1</td>\n",
       "      <td>0</td>\n",
       "      <td>45</td>\n",
       "      <td>68</td>\n",
       "      <td>628.555502</td>\n",
       "      <td>10437.093974</td>\n",
       "      <td>0.000000</td>\n",
       "      <td>519.926343</td>\n",
       "      <td>...</td>\n",
       "      <td>0.0</td>\n",
       "      <td>NaN</td>\n",
       "      <td>0.0</td>\n",
       "      <td>0.0</td>\n",
       "      <td>NaN</td>\n",
       "      <td>0.0</td>\n",
       "      <td>0.0</td>\n",
       "      <td>1.0</td>\n",
       "      <td>0</td>\n",
       "      <td>0</td>\n",
       "    </tr>\n",
       "    <tr>\n",
       "      <th>4193163</th>\n",
       "      <td>1149559968</td>\n",
       "      <td>202107</td>\n",
       "      <td>1</td>\n",
       "      <td>0</td>\n",
       "      <td>39</td>\n",
       "      <td>68</td>\n",
       "      <td>1266.333576</td>\n",
       "      <td>7228.399920</td>\n",
       "      <td>0.000000</td>\n",
       "      <td>0.434734</td>\n",
       "      <td>...</td>\n",
       "      <td>0.0</td>\n",
       "      <td>NaN</td>\n",
       "      <td>0.0</td>\n",
       "      <td>0.0</td>\n",
       "      <td>NaN</td>\n",
       "      <td>0.0</td>\n",
       "      <td>0.0</td>\n",
       "      <td>1.0</td>\n",
       "      <td>0</td>\n",
       "      <td>0</td>\n",
       "    </tr>\n",
       "  </tbody>\n",
       "</table>\n",
       "<p>4193164 rows × 830 columns</p>\n",
       "</div>"
      ],
      "text/plain": [
       "         numero_de_cliente  foto_mes  active_quarter  cliente_vip  \\\n",
       "0                869143884    201904               1            0   \n",
       "1                869364346    201904               1            0   \n",
       "2                869463381    201904               1            0   \n",
       "3                869649487    201904               1            0   \n",
       "4                869743570    201904               1            0   \n",
       "...                    ...       ...             ...          ...   \n",
       "4193159         1147991305    202107               1            0   \n",
       "4193160         1148071168    202107               1            0   \n",
       "4193161         1148921495    202107               1            0   \n",
       "4193162         1149218456    202107               1            0   \n",
       "4193163         1149559968    202107               1            0   \n",
       "\n",
       "         cliente_edad  cliente_antiguedad  mrentabilidad  \\\n",
       "0                  56                 104    5303.092950   \n",
       "1                  42                 111      92.970157   \n",
       "2                  38                 110    2412.401842   \n",
       "3                  32                  90    1603.061519   \n",
       "4                  43                 110    2262.149729   \n",
       "...               ...                 ...            ...   \n",
       "4193159            24                  69     101.036840   \n",
       "4193160            43                  69     502.342905   \n",
       "4193161            44                  47    1868.898195   \n",
       "4193162            45                  68     628.555502   \n",
       "4193163            39                  68    1266.333576   \n",
       "\n",
       "         mrentabilidad_annual  mcomisiones  mactivos_margen  ...  \\\n",
       "0                65073.348317  1190.351318      1092.186603  ...   \n",
       "1                18200.432998     0.000000        26.203259  ...   \n",
       "2                33321.770262   724.259510      -165.428020  ...   \n",
       "3                42416.606051   548.247359     -1185.422694  ...   \n",
       "4                19974.578045  1621.800927      -288.306770  ...   \n",
       "...                       ...          ...              ...  ...   \n",
       "4193159            464.823808     0.000000        85.603783  ...   \n",
       "4193160          16256.831511   277.437926      -266.359972  ...   \n",
       "4193161          24788.191346  1515.024716       228.662323  ...   \n",
       "4193162          10437.093974     0.000000       519.926343  ...   \n",
       "4193163           7228.399920     0.000000         0.434734  ...   \n",
       "\n",
       "         avg_historico_tc_proporcion_consumo_pesos  \\\n",
       "0                                              1.0   \n",
       "1                                              1.0   \n",
       "2                                              1.0   \n",
       "3                                              1.0   \n",
       "4                                              1.0   \n",
       "...                                            ...   \n",
       "4193159                                        0.0   \n",
       "4193160                                        0.0   \n",
       "4193161                                        1.0   \n",
       "4193162                                        0.0   \n",
       "4193163                                        0.0   \n",
       "\n",
       "         ratio_actual_tc_proporcion_adelanto_pesos  \\\n",
       "0                                              NaN   \n",
       "1                                              NaN   \n",
       "2                                              NaN   \n",
       "3                                              NaN   \n",
       "4                                              NaN   \n",
       "...                                            ...   \n",
       "4193159                                        NaN   \n",
       "4193160                                        NaN   \n",
       "4193161                                        NaN   \n",
       "4193162                                        NaN   \n",
       "4193163                                        NaN   \n",
       "\n",
       "         sumcum_tc_proporcion_adelanto_pesos  \\\n",
       "0                                        0.0   \n",
       "1                                        0.0   \n",
       "2                                        0.0   \n",
       "3                                        0.0   \n",
       "4                                        0.0   \n",
       "...                                      ...   \n",
       "4193159                                  0.0   \n",
       "4193160                                  0.0   \n",
       "4193161                                  0.0   \n",
       "4193162                                  0.0   \n",
       "4193163                                  0.0   \n",
       "\n",
       "         avg_historico_tc_proporcion_adelanto_pesos  \\\n",
       "0                                               0.0   \n",
       "1                                               0.0   \n",
       "2                                               0.0   \n",
       "3                                               0.0   \n",
       "4                                               0.0   \n",
       "...                                             ...   \n",
       "4193159                                         0.0   \n",
       "4193160                                         0.0   \n",
       "4193161                                         0.0   \n",
       "4193162                                         0.0   \n",
       "4193163                                         0.0   \n",
       "\n",
       "         ratio_actual_tc_proporcion_adelanto_dolares  \\\n",
       "0                                                NaN   \n",
       "1                                                NaN   \n",
       "2                                                NaN   \n",
       "3                                                NaN   \n",
       "4                                                NaN   \n",
       "...                                              ...   \n",
       "4193159                                          NaN   \n",
       "4193160                                          NaN   \n",
       "4193161                                          NaN   \n",
       "4193162                                          NaN   \n",
       "4193163                                          NaN   \n",
       "\n",
       "         sumcum_tc_proporcion_adelanto_dolares  \\\n",
       "0                                          0.0   \n",
       "1                                          0.0   \n",
       "2                                          0.0   \n",
       "3                                          0.0   \n",
       "4                                          0.0   \n",
       "...                                        ...   \n",
       "4193159                                    0.0   \n",
       "4193160                                    0.0   \n",
       "4193161                                    0.0   \n",
       "4193162                                    0.0   \n",
       "4193163                                    0.0   \n",
       "\n",
       "         avg_historico_tc_proporcion_adelanto_dolares  clase_peso  \\\n",
       "0                                                 0.0         1.0   \n",
       "1                                                 0.0         1.0   \n",
       "2                                                 0.0         1.0   \n",
       "3                                                 0.0         1.0   \n",
       "4                                                 0.0         1.0   \n",
       "...                                               ...         ...   \n",
       "4193159                                           0.0         1.0   \n",
       "4193160                                           0.0         1.0   \n",
       "4193161                                           0.0         1.0   \n",
       "4193162                                           0.0         1.0   \n",
       "4193163                                           0.0         1.0   \n",
       "\n",
       "         clase_binaria1  clase_binaria2  \n",
       "0                     0               0  \n",
       "1                     0               0  \n",
       "2                     0               0  \n",
       "3                     0               0  \n",
       "4                     0               0  \n",
       "...                 ...             ...  \n",
       "4193159               0               0  \n",
       "4193160               0               0  \n",
       "4193161               0               0  \n",
       "4193162               0               0  \n",
       "4193163               0               0  \n",
       "\n",
       "[4193164 rows x 830 columns]"
      ]
     },
     "execution_count": 8,
     "metadata": {},
     "output_type": "execute_result"
    }
   ],
   "source": [
    "train_data"
   ]
  },
  {
   "cell_type": "code",
   "execution_count": 9,
   "metadata": {},
   "outputs": [],
   "source": [
    "\n",
    "#b. Datos para entrenar todo el modelo final para Kaggle.\n",
    "X_train = train_data.drop(['clase_ternaria', 'clase_peso','clase_binaria2', 'clase_binaria1'], axis=1)\n",
    "y_train_binaria2 = train_data['clase_binaria2']\n",
    "w_train = train_data['clase_peso']\n",
    "\n",
    "#c. Datos de Test (a predecir).\n",
    "X_test = test_data.drop(['clase_ternaria', 'clase_peso','clase_binaria2', 'clase_binaria1'], axis=1)\n",
    "y_test_binaria2 = test_data['clase_binaria2']\n"
   ]
  },
  {
   "cell_type": "code",
   "execution_count": 10,
   "metadata": {},
   "outputs": [
    {
     "data": {
      "text/plain": [
       "0"
      ]
     },
     "execution_count": 10,
     "metadata": {},
     "output_type": "execute_result"
    }
   ],
   "source": [
    "del train_data\n",
    "del test_data\n",
    "gc.collect()\n"
   ]
  },
  {
   "cell_type": "code",
   "execution_count": 11,
   "metadata": {},
   "outputs": [
    {
     "name": "stdout",
     "output_type": "stream",
     "text": [
      "Bloque 1: [201904, 201905, 201906, 201908, 201909, 201911, 202001, 202002, 202003, 202005, 202008, 202009, 202011, 202012, 202101, 202102, 202103, 202104, 202105, 202107]\n",
      "Bloque 2: [201904, 201905, 201907, 201908, 201909, 201910, 201911, 201912, 202002, 202003, 202005, 202006, 202008, 202009, 202010, 202101, 202103, 202104, 202106, 202107]\n",
      "Bloque 3: [201904, 201905, 201906, 201907, 201908, 201909, 201910, 201912, 202001, 202002, 202003, 202004, 202005, 202007, 202009, 202011, 202012, 202102, 202103, 202104]\n"
     ]
    }
   ],
   "source": [
    "import random\n",
    "# Semilla para el generador de números aleatorios\n",
    "SEED = semillas[0]\n",
    "random.seed(SEED)\n",
    "\n",
    "# Obtener los meses únicos en el dataset\n",
    "mes_column = X_train['foto_mes']\n",
    "previous_months = sorted(mes_column.unique())\n",
    "# Parámetros\n",
    "BLOCK_SIZE = 3  # Cantidad de bloques\n",
    "ELEMENTS_PER_BLOCK = 20  # Tamaño de cada bloque\n",
    "\n",
    "# Generar bloques\n",
    "month_blocks = []\n",
    "for _ in range(BLOCK_SIZE):\n",
    "    block = random.sample(previous_months, k=ELEMENTS_PER_BLOCK)\n",
    "    block.sort()\n",
    "    month_blocks.append(block)\n",
    "\n",
    "# Imprimir los bloques generados\n",
    "for i, block in enumerate(month_blocks, start=1):\n",
    "    print(f\"Bloque {i}: {block}\")"
   ]
  },
  {
   "cell_type": "code",
   "execution_count": null,
   "metadata": {
    "scrolled": true
   },
   "outputs": [
    {
     "name": "stdout",
     "output_type": "stream",
     "text": [
      "Optimizando para el bloque 2...\n"
     ]
    },
    {
     "name": "stderr",
     "output_type": "stream",
     "text": [
      "[I 2024-11-29 17:10:01,176] A new study created in RDB with name: exp_122_lgbm_stack_block2\n",
      "[I 2024-11-29 17:26:21,842] Trial 0 finished with value: 3169068000.0 and parameters: {'learning_rate': 0.06485485089217778, 'num_boost_round': 382, 'max_bin': 145, 'num_leaves': 61, 'min_data_in_leaf': 963, 'feature_fraction': 0.3582440884009176, 'bagging_fraction': 0.9531439791775027}. Best is trial 0 with value: 3169068000.0.\n"
     ]
    }
   ],
   "source": [
    "import optuna\n",
    "import lightgbm as lgb\n",
    "import numpy as np\n",
    "import pandas as pd\n",
    "from sklearn.model_selection import StratifiedKFold\n",
    "import warnings\n",
    "\n",
    "warnings.filterwarnings(\"ignore\", message=\"Found `num_boost_round` in params. Will use it instead of argument\")\n",
    "\n",
    "def optimize_month(X_train_mes, y_train_mes, i):\n",
    "    def objective(trial):\n",
    "        learning_rate = trial.suggest_float('learning_rate', 0.001, 0.35)\n",
    "        stopping_rounds = int(50 + 5 / learning_rate)\n",
    "        # Hiperparámetros específicos a optimizar\n",
    "        lgb_params = {\n",
    "            'objective': 'binary',\n",
    "            'metric': 'custom',\n",
    "            'boosting_type': 'rf',\n",
    "            'first_metric_only': True,\n",
    "            'boost_from_average': True,\n",
    "            'feature_pre_filter': False,\n",
    "            'max_depth': -1,\n",
    "            'num_threads': -1,\n",
    "            'verbose': -1,\n",
    "            'num_boost_round': trial.suggest_int('num_boost_round', 20, 500),\n",
    "            'max_bin': trial.suggest_int('max_bin', 20, 200),\n",
    "            'num_leaves': trial.suggest_int('num_leaves', 8, 300),\n",
    "            'min_data_in_leaf': trial.suggest_int('min_data_in_leaf', 10, 1000),\n",
    "            'feature_fraction': trial.suggest_float('feature_fraction', 0.1, 1.0),\n",
    "            'bagging_fraction': trial.suggest_float('bagging_fraction', 0.1, 1.0),\n",
    "            'learning_rate': learning_rate,\n",
    "        }\n",
    "        N_FOLDS = 5\n",
    "        N_ITER = 1  # Cantidad de iteraciones con diferentes semillas\n",
    "        scores_iter = []\n",
    "    \n",
    "        for i in range(N_ITER):  # Cambiamos la semilla en cada iteración\n",
    "            skf_meta = StratifiedKFold(n_splits=N_FOLDS, shuffle=True, random_state=i)\n",
    "            scores_meta = []\n",
    "    \n",
    "            for train_idx, val_idx in skf_meta.split(X_train_mes, y_train_mes):\n",
    "                meta_X_train, meta_X_val = X_train_mes.iloc[train_idx], X_train_mes.iloc[val_idx]\n",
    "                meta_y_train, meta_y_val = y_train_mes.iloc[train_idx], y_train_mes.iloc[val_idx]\n",
    "    \n",
    "                model = lgb.LGBMClassifier(**lgb_params, random_state=i, stopping_rounds=stopping_rounds)\n",
    "                model.fit(meta_X_train, meta_y_train)\n",
    "                \n",
    "                val_pred = model.predict(meta_X_val)\n",
    "                max_ganancia = ganancia_prob(val_pred, meta_y_val)\n",
    "                scores_meta.append(max_ganancia)\n",
    "            \n",
    "            # Promedio de ganancias para los K-Folds en la iteración actual\n",
    "            iter_avg_score = np.mean(scores_meta) * N_FOLDS\n",
    "            scores_iter.append(iter_avg_score)\n",
    "\n",
    "        # Promedio de ganancias para las N iteraciones con distintas semillas\n",
    "        return np.mean(scores_iter)\n",
    "\n",
    "    # Optimizar los hiperparámetros para este mes\n",
    "    storage_name = \"sqlite:///\" + db_path + \"optimization_lgbm.db\"\n",
    "    study_name = \"exp_122_lgbm_stack_block\"  + str(i)\n",
    "    study = optuna.create_study(\n",
    "        direction=\"maximize\",\n",
    "        study_name=study_name,\n",
    "        storage=storage_name,\n",
    "        load_if_exists=True,\n",
    "    )\n",
    "    study.optimize(objective, n_trials=10)\n",
    "    return study.best_params\n",
    "\n",
    "best_params_per_month = {}\n",
    "\n",
    "for i, block in enumerate(month_blocks):\n",
    "    if i != 2:\n",
    "        continue\n",
    "    print(f\"Optimizando para el bloque {i}...\")\n",
    "    X_train_mes = X_train[X_train['foto_mes'].isin(block)]\n",
    "    y_train_mes = y_train_binaria2[X_train['foto_mes'].isin(block)]\n",
    "    best_params_per_month[i] = optimize_month(X_train_mes, y_train_mes, i)\n",
    "\n"
   ]
  },
  {
   "cell_type": "code",
   "execution_count": null,
   "metadata": {},
   "outputs": [],
   "source": [
    "\n",
    "lgb_models = {}\n",
    "for i, block in enumerate(month_blocks):\n",
    "    params = best_params_per_month[i]\n",
    "    X_train_mes = X_train[X_train['foto_mes'].isin(block)]\n",
    "    y_train_mes = y_train_binaria2[X_train['foto_mes'].isin(block)]\n",
    "    stopping_rounds = int(50 + 5 / params['learning_rate'])\n",
    "    params.update({\n",
    "        'objective': 'binary',\n",
    "        'metric': 'custom',\n",
    "        'boosting_type': 'rf',\n",
    "        'first_metric_only': True,\n",
    "        'boost_from_average': True,\n",
    "        'feature_pre_filter': False,\n",
    "        'max_depth': -1,\n",
    "        'num_threads': -1,\n",
    "        'verbose': -1,\n",
    "    })\n",
    "    model = lgb.LGBMClassifier(**params, random_state=i, stopping_rounds=stopping_rounds)\n",
    "    model.fit(X_train_mes, y_train_mes)\n",
    "    lgb_models[i] = model\n"
   ]
  },
  {
   "cell_type": "code",
   "execution_count": null,
   "metadata": {},
   "outputs": [],
   "source": [
    "oof_predictions = np.zeros((X_validation.shape[0], len(month_blocks)))\n",
    "\n",
    "for i, block in enumerate(month_blocks):\n",
    "    model = lgb_models[i]\n",
    "    oof_predictions[:, i] = model.predict_proba(X_validation)[:, 1]"
   ]
  },
  {
   "cell_type": "code",
   "execution_count": null,
   "metadata": {},
   "outputs": [],
   "source": [
    "def objective_meta(trial):\n",
    "    # Hiperparámetros específicos a optimizar\n",
    "\n",
    "    learning_rate = trial.suggest_float('learning_rate', 0.01, 0.3)\n",
    "    stopping_rounds = int(50 + 5 / learning_rate)\n",
    "    meta_params = {\n",
    "        'objective': 'binary',\n",
    "        'metric': 'custom',\n",
    "        'boosting_type': 'rf',\n",
    "        'first_metric_only': True,\n",
    "        'boost_from_average': True,\n",
    "        'feature_pre_filter': False,\n",
    "        'max_depth': -1,\n",
    "        'num_threads': -1,\n",
    "        'verbose': -1,\n",
    "        'num_boost_round': trial.suggest_int('num_boost_round', 20, 500),\n",
    "        'max_bin': trial.suggest_int('max_bin', 20, 200),\n",
    "        'num_leaves': trial.suggest_int('num_leaves', 8, 300),\n",
    "        'min_data_in_leaf': trial.suggest_int('min_data_in_leaf', 10, 1000),\n",
    "        'feature_fraction': trial.suggest_float('feature_fraction', 0.1, 1.0),\n",
    "        'bagging_fraction': trial.suggest_float('bagging_fraction', 0.1, 1.0),\n",
    "        'learning_rate': learning_rate,\n",
    "    }\n",
    "    N_FOLDS = 5\n",
    "    N_ITER = 1  # Cantidad de iteraciones con diferentes semillas\n",
    "    scores_iter = []\n",
    "\n",
    "    for i in range(N_ITER):  # Cambiamos la semilla en cada iteración\n",
    "        skf_meta = StratifiedKFold(n_splits=N_FOLDS, shuffle=True, random_state=i)\n",
    "        scores_meta = []\n",
    "\n",
    "        for train_idx, val_idx in skf_meta.split(meta_X, meta_y):\n",
    "            meta_X_train, meta_X_val = meta_X.iloc[train_idx], meta_X.iloc[val_idx]\n",
    "            meta_y_train, meta_y_val = meta_y.iloc[train_idx], meta_y.iloc[val_idx]\n",
    "\n",
    "            # Configura el modelo con la semilla actual\n",
    "            meta_model = lgb.LGBMClassifier(**meta_params, random_state=i, stopping_rounds=stopping_rounds)\n",
    "            meta_model.fit(meta_X_train, meta_y_train)\n",
    "            \n",
    "            val_pred = meta_model.predict(meta_X_val)\n",
    "            max_ganancia = ganancia_prob(val_pred, meta_y_val)\n",
    "            scores_meta.append(max_ganancia)\n",
    "        \n",
    "        # Promedio de ganancias para los K-Folds en la iteración actual\n",
    "        iter_avg_score = np.mean(scores_meta) * N_FOLDS\n",
    "        scores_iter.append(iter_avg_score)\n",
    "\n",
    "    # Promedio de ganancias para las N iteraciones con distintas semillas\n",
    "    return np.mean(scores_iter)\n",
    "\n",
    "meta_features = pd.DataFrame(oof_predictions, columns=[f'model_mes_{i}' for i, block in enumerate(month_blocks)])\n",
    "meta_features = pd.concat([meta_features, X_validation.reset_index(drop=True)], axis=1)\n",
    "meta_X = meta_features\n",
    "meta_y = y_validation_binaria2\n",
    "\n",
    "# no-name-3a3c49eb-5af8-4d2d-82a4-33825140e7a6\n",
    "# [I 2024-11-16 13:21:13,038] Trial 129 finished with value: 309176000.0 and parameters: {'learning_rate': 0.2804332312296757, 'num_boost_round': 210, 'max_bin': 20, 'num_leaves': 86, 'min_data_in_leaf': 94, 'feature_fraction': 0.4499833274696736, 'bagging_fraction': 0.7410741485338036}. Best is trial 129 with value: 309176000.0.\n",
    "\n",
    "storage_name = \"sqlite:///\" + db_path + \"optimization_lgbm.db\"\n",
    "study_name = \"exp_121_lgbm_stack_blocks\"\n",
    "study = optuna.create_study(\n",
    "    direction=\"maximize\",\n",
    "    study_name=study_name,\n",
    "    storage=storage_name,\n",
    "    load_if_exists=True,\n",
    ")\n",
    "study.optimize(objective_meta, n_trials=50)\n"
   ]
  },
  {
   "cell_type": "code",
   "execution_count": null,
   "metadata": {},
   "outputs": [],
   "source": [
    "meta_params = study.best_params\n",
    "stopping_rounds = int(50 + 5 / meta_params['learning_rate'])\n",
    "meta_params.update({\n",
    "    'objective': 'binary',\n",
    "    'metric': 'custom',\n",
    "    'boosting_type': 'rf',\n",
    "    'first_metric_only': True,\n",
    "    'boost_from_average': True,\n",
    "    'feature_pre_filter': False,\n",
    "    'max_depth': -1,\n",
    "    'num_threads': -1,\n",
    "    'verbose': -1,\n",
    "})\n",
    "meta_model = lgb.LGBMClassifier(**meta_params, random_state=i, stopping_rounds=stopping_rounds)\n",
    "meta_model.fit(meta_X, meta_y)"
   ]
  },
  {
   "cell_type": "code",
   "execution_count": 40,
   "metadata": {},
   "outputs": [
    {
     "ename": "ValueError",
     "evalue": "Number of features of the model must match the input. Model n_features_ is 915 and input n_features is 916",
     "output_type": "error",
     "traceback": [
      "\u001b[0;31m---------------------------------------------------------------------------\u001b[0m",
      "\u001b[0;31mValueError\u001b[0m                                Traceback (most recent call last)",
      "Cell \u001b[0;32mIn[40], line 6\u001b[0m\n\u001b[1;32m      3\u001b[0m \u001b[38;5;66;03m# Entrenar modelos mensuales y generar predicciones sobre el último mes\u001b[39;00m\n\u001b[1;32m      4\u001b[0m \u001b[38;5;28;01mfor\u001b[39;00m i, block \u001b[38;5;129;01min\u001b[39;00m \u001b[38;5;28menumerate\u001b[39m(month_blocks):\n\u001b[1;32m      5\u001b[0m     \u001b[38;5;66;03m# Guardar las probabilidades predichas para el meta-modelo usando el último mes\u001b[39;00m\n\u001b[0;32m----> 6\u001b[0m     oof_predictions[:, i] \u001b[38;5;241m=\u001b[39m \u001b[43mlgb_models\u001b[49m\u001b[43m[\u001b[49m\u001b[43mi\u001b[49m\u001b[43m]\u001b[49m\u001b[38;5;241;43m.\u001b[39;49m\u001b[43mpredict_proba\u001b[49m\u001b[43m(\u001b[49m\u001b[43mX_test\u001b[49m\u001b[43m)\u001b[49m[:, \u001b[38;5;241m1\u001b[39m]\n\u001b[1;32m      8\u001b[0m \u001b[38;5;66;03m# Crear dataset para el meta-modelo\u001b[39;00m\n\u001b[1;32m      9\u001b[0m meta_features \u001b[38;5;241m=\u001b[39m pd\u001b[38;5;241m.\u001b[39mDataFrame(oof_predictions, columns\u001b[38;5;241m=\u001b[39m[\u001b[38;5;124mf\u001b[39m\u001b[38;5;124m'\u001b[39m\u001b[38;5;124mmodel_mes_\u001b[39m\u001b[38;5;132;01m{\u001b[39;00mi\u001b[38;5;132;01m}\u001b[39;00m\u001b[38;5;124m'\u001b[39m \u001b[38;5;28;01mfor\u001b[39;00m i, block \u001b[38;5;129;01min\u001b[39;00m \u001b[38;5;28menumerate\u001b[39m(month_blocks)])\n",
      "File \u001b[0;32m~/.venv/lib/python3.12/site-packages/lightgbm/sklearn.py:1351\u001b[0m, in \u001b[0;36mLGBMClassifier.predict_proba\u001b[0;34m(self, X, raw_score, start_iteration, num_iteration, pred_leaf, pred_contrib, validate_features, **kwargs)\u001b[0m\n\u001b[1;32m   1339\u001b[0m \u001b[38;5;28;01mdef\u001b[39;00m \u001b[38;5;21mpredict_proba\u001b[39m(\n\u001b[1;32m   1340\u001b[0m     \u001b[38;5;28mself\u001b[39m,\n\u001b[1;32m   1341\u001b[0m     X: _LGBM_ScikitMatrixLike,\n\u001b[0;32m   (...)\u001b[0m\n\u001b[1;32m   1348\u001b[0m     \u001b[38;5;241m*\u001b[39m\u001b[38;5;241m*\u001b[39mkwargs: Any,\n\u001b[1;32m   1349\u001b[0m ):\n\u001b[1;32m   1350\u001b[0m \u001b[38;5;250m    \u001b[39m\u001b[38;5;124;03m\"\"\"Docstring is set after definition, using a template.\"\"\"\u001b[39;00m\n\u001b[0;32m-> 1351\u001b[0m     result \u001b[38;5;241m=\u001b[39m \u001b[38;5;28;43msuper\u001b[39;49m\u001b[43m(\u001b[49m\u001b[43m)\u001b[49m\u001b[38;5;241;43m.\u001b[39;49m\u001b[43mpredict\u001b[49m\u001b[43m(\u001b[49m\n\u001b[1;32m   1352\u001b[0m \u001b[43m        \u001b[49m\u001b[43mX\u001b[49m\u001b[38;5;241;43m=\u001b[39;49m\u001b[43mX\u001b[49m\u001b[43m,\u001b[49m\n\u001b[1;32m   1353\u001b[0m \u001b[43m        \u001b[49m\u001b[43mraw_score\u001b[49m\u001b[38;5;241;43m=\u001b[39;49m\u001b[43mraw_score\u001b[49m\u001b[43m,\u001b[49m\n\u001b[1;32m   1354\u001b[0m \u001b[43m        \u001b[49m\u001b[43mstart_iteration\u001b[49m\u001b[38;5;241;43m=\u001b[39;49m\u001b[43mstart_iteration\u001b[49m\u001b[43m,\u001b[49m\n\u001b[1;32m   1355\u001b[0m \u001b[43m        \u001b[49m\u001b[43mnum_iteration\u001b[49m\u001b[38;5;241;43m=\u001b[39;49m\u001b[43mnum_iteration\u001b[49m\u001b[43m,\u001b[49m\n\u001b[1;32m   1356\u001b[0m \u001b[43m        \u001b[49m\u001b[43mpred_leaf\u001b[49m\u001b[38;5;241;43m=\u001b[39;49m\u001b[43mpred_leaf\u001b[49m\u001b[43m,\u001b[49m\n\u001b[1;32m   1357\u001b[0m \u001b[43m        \u001b[49m\u001b[43mpred_contrib\u001b[49m\u001b[38;5;241;43m=\u001b[39;49m\u001b[43mpred_contrib\u001b[49m\u001b[43m,\u001b[49m\n\u001b[1;32m   1358\u001b[0m \u001b[43m        \u001b[49m\u001b[43mvalidate_features\u001b[49m\u001b[38;5;241;43m=\u001b[39;49m\u001b[43mvalidate_features\u001b[49m\u001b[43m,\u001b[49m\n\u001b[1;32m   1359\u001b[0m \u001b[43m        \u001b[49m\u001b[38;5;241;43m*\u001b[39;49m\u001b[38;5;241;43m*\u001b[39;49m\u001b[43mkwargs\u001b[49m\u001b[43m,\u001b[49m\n\u001b[1;32m   1360\u001b[0m \u001b[43m    \u001b[49m\u001b[43m)\u001b[49m\n\u001b[1;32m   1361\u001b[0m     \u001b[38;5;28;01mif\u001b[39;00m \u001b[38;5;28mcallable\u001b[39m(\u001b[38;5;28mself\u001b[39m\u001b[38;5;241m.\u001b[39m_objective) \u001b[38;5;129;01mand\u001b[39;00m \u001b[38;5;129;01mnot\u001b[39;00m (raw_score \u001b[38;5;129;01mor\u001b[39;00m pred_leaf \u001b[38;5;129;01mor\u001b[39;00m pred_contrib):\n\u001b[1;32m   1362\u001b[0m         _log_warning(\n\u001b[1;32m   1363\u001b[0m             \u001b[38;5;124m\"\u001b[39m\u001b[38;5;124mCannot compute class probabilities or labels \u001b[39m\u001b[38;5;124m\"\u001b[39m\n\u001b[1;32m   1364\u001b[0m             \u001b[38;5;124m\"\u001b[39m\u001b[38;5;124mdue to the usage of customized objective function.\u001b[39m\u001b[38;5;130;01m\\n\u001b[39;00m\u001b[38;5;124m\"\u001b[39m\n\u001b[1;32m   1365\u001b[0m             \u001b[38;5;124m\"\u001b[39m\u001b[38;5;124mReturning raw scores instead.\u001b[39m\u001b[38;5;124m\"\u001b[39m\n\u001b[1;32m   1366\u001b[0m         )\n",
      "File \u001b[0;32m~/.venv/lib/python3.12/site-packages/lightgbm/sklearn.py:1010\u001b[0m, in \u001b[0;36mLGBMModel.predict\u001b[0;34m(self, X, raw_score, start_iteration, num_iteration, pred_leaf, pred_contrib, validate_features, **kwargs)\u001b[0m\n\u001b[1;32m   1008\u001b[0m n_features \u001b[38;5;241m=\u001b[39m X\u001b[38;5;241m.\u001b[39mshape[\u001b[38;5;241m1\u001b[39m]\n\u001b[1;32m   1009\u001b[0m \u001b[38;5;28;01mif\u001b[39;00m \u001b[38;5;28mself\u001b[39m\u001b[38;5;241m.\u001b[39m_n_features \u001b[38;5;241m!=\u001b[39m n_features:\n\u001b[0;32m-> 1010\u001b[0m     \u001b[38;5;28;01mraise\u001b[39;00m \u001b[38;5;167;01mValueError\u001b[39;00m(\n\u001b[1;32m   1011\u001b[0m         \u001b[38;5;124m\"\u001b[39m\u001b[38;5;124mNumber of features of the model must \u001b[39m\u001b[38;5;124m\"\u001b[39m\n\u001b[1;32m   1012\u001b[0m         \u001b[38;5;124mf\u001b[39m\u001b[38;5;124m\"\u001b[39m\u001b[38;5;124mmatch the input. Model n_features_ is \u001b[39m\u001b[38;5;132;01m{\u001b[39;00m\u001b[38;5;28mself\u001b[39m\u001b[38;5;241m.\u001b[39m_n_features\u001b[38;5;132;01m}\u001b[39;00m\u001b[38;5;124m and \u001b[39m\u001b[38;5;124m\"\u001b[39m\n\u001b[1;32m   1013\u001b[0m         \u001b[38;5;124mf\u001b[39m\u001b[38;5;124m\"\u001b[39m\u001b[38;5;124minput n_features is \u001b[39m\u001b[38;5;132;01m{\u001b[39;00mn_features\u001b[38;5;132;01m}\u001b[39;00m\u001b[38;5;124m\"\u001b[39m\n\u001b[1;32m   1014\u001b[0m     )\n\u001b[1;32m   1015\u001b[0m \u001b[38;5;66;03m# retrieve original params that possibly can be used in both training and prediction\u001b[39;00m\n\u001b[1;32m   1016\u001b[0m \u001b[38;5;66;03m# and then overwrite them (considering aliases) with params that were passed directly in prediction\u001b[39;00m\n\u001b[1;32m   1017\u001b[0m predict_params \u001b[38;5;241m=\u001b[39m \u001b[38;5;28mself\u001b[39m\u001b[38;5;241m.\u001b[39m_process_params(stage\u001b[38;5;241m=\u001b[39m\u001b[38;5;124m\"\u001b[39m\u001b[38;5;124mpredict\u001b[39m\u001b[38;5;124m\"\u001b[39m)\n",
      "\u001b[0;31mValueError\u001b[0m: Number of features of the model must match the input. Model n_features_ is 915 and input n_features is 916"
     ]
    }
   ],
   "source": [
    "oof_predictions = np.zeros((X_test.shape[0], len(month_blocks)))\n",
    "\n",
    "# Entrenar modelos mensuales y generar predicciones sobre el último mes\n",
    "for i, block in enumerate(month_blocks):\n",
    "    # Guardar las probabilidades predichas para el meta-modelo usando el último mes\n",
    "    oof_predictions[:, i] = lgb_models[i].predict_proba(X_test)[:, 1]\n",
    "    \n",
    "# Crear dataset para el meta-modelo\n",
    "meta_features = pd.DataFrame(oof_predictions, columns=[f'model_mes_{i}' for i, block in enumerate(month_blocks)])\n",
    "meta_features = pd.concat([meta_features, X_test.reset_index(drop=True)], axis=1)\n",
    "\n",
    "predicciones = meta_model.predict(meta_features)"
   ]
  },
  {
   "cell_type": "code",
   "execution_count": 10,
   "metadata": {},
   "outputs": [],
   "source": [
    "#4. Visualizo los resultados del estudio, para modificar los rangos de análisis."
   ]
  },
  {
   "cell_type": "code",
   "execution_count": null,
   "metadata": {},
   "outputs": [],
   "source": [
    "optuna.visualization.plot_optimization_history(study)"
   ]
  },
  {
   "cell_type": "code",
   "execution_count": null,
   "metadata": {},
   "outputs": [],
   "source": [
    "plot_param_importances(study)"
   ]
  },
  {
   "cell_type": "code",
   "execution_count": null,
   "metadata": {},
   "outputs": [],
   "source": [
    "plot_slice(study)"
   ]
  },
  {
   "cell_type": "code",
   "execution_count": null,
   "metadata": {},
   "outputs": [],
   "source": [
    "plot_contour(study)"
   ]
  },
  {
   "cell_type": "code",
   "execution_count": null,
   "metadata": {},
   "outputs": [],
   "source": [
    "plot_contour(study, params=['num_leaves','min_data_in_leaf'] )"
   ]
  },
  {
   "cell_type": "code",
   "execution_count": 20,
   "metadata": {
    "scrolled": true
   },
   "outputs": [
    {
     "data": {
      "text/plain": [
       "{'learning_rate': 0.07861021583599366,\n",
       " 'num_boost_round': 263,\n",
       " 'max_bin': 188,\n",
       " 'num_leaves': 94,\n",
       " 'min_data_in_leaf': 310,\n",
       " 'feature_fraction': 0.9954418131347904,\n",
       " 'bagging_fraction': 0.5850033373679738}"
      ]
     },
     "execution_count": 20,
     "metadata": {},
     "output_type": "execute_result"
    }
   ],
   "source": [
    "study.best_trial.params"
   ]
  },
  {
   "cell_type": "code",
   "execution_count": 23,
   "metadata": {},
   "outputs": [
    {
     "data": {
      "text/plain": [
       "{0: LGBMClassifier(bagging_fraction=0.6139544534868907, boost_from_average=True,\n",
       "                boosting_type='rf', feature_fraction=0.5959985554142665,\n",
       "                feature_pre_filter=False, first_metric_only=True,\n",
       "                learning_rate=0.25995095782781696, max_bin=31, metric='custom',\n",
       "                min_data_in_leaf=316, num_boost_round=81, num_leaves=295,\n",
       "                num_threads=-1, objective='binary', random_state=0, verbose=-1),\n",
       " 1: LGBMClassifier(bagging_fraction=0.6986367064998396, boost_from_average=True,\n",
       "                boosting_type='rf', feature_fraction=0.5513776690595713,\n",
       "                feature_pre_filter=False, first_metric_only=True,\n",
       "                learning_rate=0.2326848732220626, max_bin=200, metric='custom',\n",
       "                min_data_in_leaf=692, num_boost_round=277, num_leaves=298,\n",
       "                num_threads=-1, objective='binary', random_state=1, verbose=-1),\n",
       " 2: LGBMClassifier(bagging_fraction=0.9809207286219903, boost_from_average=True,\n",
       "                boosting_type='rf', feature_fraction=0.6251073504781037,\n",
       "                feature_pre_filter=False, first_metric_only=True,\n",
       "                learning_rate=0.3470208155732832, max_bin=51, metric='custom',\n",
       "                min_data_in_leaf=277, num_boost_round=105, num_leaves=300,\n",
       "                num_threads=-1, objective='binary', random_state=2, verbose=-1),\n",
       " 3: LGBMClassifier(bagging_fraction=0.5847818544921289, boost_from_average=True,\n",
       "                boosting_type='rf', feature_fraction=0.5884602211574984,\n",
       "                feature_pre_filter=False, first_metric_only=True,\n",
       "                learning_rate=0.07933648326556467, max_bin=27, metric='custom',\n",
       "                min_data_in_leaf=773, num_boost_round=98, num_leaves=230,\n",
       "                num_threads=-1, objective='binary', random_state=3, verbose=-1),\n",
       " 4: LGBMClassifier(bagging_fraction=0.10603623862346079, boost_from_average=True,\n",
       "                boosting_type='rf', feature_fraction=0.44846950994185897,\n",
       "                feature_pre_filter=False, first_metric_only=True,\n",
       "                learning_rate=0.29606867655119046, max_bin=116, metric='custom',\n",
       "                min_data_in_leaf=814, num_boost_round=223, num_leaves=291,\n",
       "                num_threads=-1, objective='binary', random_state=4, verbose=-1)}"
      ]
     },
     "execution_count": 23,
     "metadata": {},
     "output_type": "execute_result"
    }
   ],
   "source": [
    "lgb_models"
   ]
  },
  {
   "cell_type": "code",
   "execution_count": 19,
   "metadata": {},
   "outputs": [
    {
     "name": "stdout",
     "output_type": "stream",
     "text": [
      "                                        Feature  Importance\n",
      "0                                      foto_mes        1609\n",
      "1                     ratio_actual_ctrx_quarter         726\n",
      "2            ratio_actual_mprestamos_personales         544\n",
      "3                                mcuentas_saldo         496\n",
      "4                             tc_fechalta_menor         425\n",
      "5                         mprestamos_personales         392\n",
      "6            avg_historico_mrentabilidad_annual         390\n",
      "7  ratio_actual_m_promedio_prestamos_personales         368\n",
      "8                        m_promedio_caja_ahorro         366\n",
      "9                   sumcum_mrentabilidad_annual         355\n",
      "                                        Feature  Importance\n",
      "0                                      foto_mes        6826\n",
      "1                     ratio_actual_ctrx_quarter        2884\n",
      "2                                mcuentas_saldo        2669\n",
      "3            ratio_actual_mprestamos_personales        2419\n",
      "4                   sumcum_mrentabilidad_annual        1795\n",
      "5                              tc_consumo_total        1730\n",
      "6  ratio_actual_m_promedio_prestamos_personales        1702\n",
      "7            avg_historico_mrentabilidad_annual        1590\n",
      "8                         mprestamos_personales        1499\n",
      "9                             tc_fechalta_menor        1465\n",
      "                                        Feature  Importance\n",
      "0                                      foto_mes        5168\n",
      "1                                mcuentas_saldo        2045\n",
      "2            ratio_actual_mprestamos_personales        1998\n",
      "3                     ratio_actual_ctrx_quarter        1930\n",
      "4                        m_promedio_caja_ahorro        1647\n",
      "5                         mprestamos_personales        1614\n",
      "6  ratio_actual_m_promedio_prestamos_personales        1533\n",
      "7            avg_historico_mrentabilidad_annual        1438\n",
      "8                             tc_fechalta_menor        1365\n",
      "9                           tc_saldopesos_total        1356\n"
     ]
    },
    {
     "data": {
      "text/html": [
       "<div>\n",
       "<style scoped>\n",
       "    .dataframe tbody tr th:only-of-type {\n",
       "        vertical-align: middle;\n",
       "    }\n",
       "\n",
       "    .dataframe tbody tr th {\n",
       "        vertical-align: top;\n",
       "    }\n",
       "\n",
       "    .dataframe thead th {\n",
       "        text-align: right;\n",
       "    }\n",
       "</style>\n",
       "<table border=\"1\" class=\"dataframe\">\n",
       "  <thead>\n",
       "    <tr style=\"text-align: right;\">\n",
       "      <th></th>\n",
       "      <th>Feature</th>\n",
       "      <th>Importance</th>\n",
       "    </tr>\n",
       "  </thead>\n",
       "  <tbody>\n",
       "    <tr>\n",
       "      <th>0</th>\n",
       "      <td>model_mes_0</td>\n",
       "      <td>829</td>\n",
       "    </tr>\n",
       "    <tr>\n",
       "      <th>1</th>\n",
       "      <td>model_mes_2</td>\n",
       "      <td>738</td>\n",
       "    </tr>\n",
       "    <tr>\n",
       "      <th>2</th>\n",
       "      <td>model_mes_1</td>\n",
       "      <td>679</td>\n",
       "    </tr>\n",
       "    <tr>\n",
       "      <th>3</th>\n",
       "      <td>mrentabilidad_annual_slope_1</td>\n",
       "      <td>350</td>\n",
       "    </tr>\n",
       "    <tr>\n",
       "      <th>4</th>\n",
       "      <td>m_promedio_transferencias_recibidas</td>\n",
       "      <td>320</td>\n",
       "    </tr>\n",
       "    <tr>\n",
       "      <th>5</th>\n",
       "      <td>ratio_actual_mcuenta_corriente</td>\n",
       "      <td>294</td>\n",
       "    </tr>\n",
       "    <tr>\n",
       "      <th>6</th>\n",
       "      <td>mcuentas_saldo_slope_1</td>\n",
       "      <td>290</td>\n",
       "    </tr>\n",
       "    <tr>\n",
       "      <th>7</th>\n",
       "      <td>ratio_actual_mpasivos_margen</td>\n",
       "      <td>275</td>\n",
       "    </tr>\n",
       "    <tr>\n",
       "      <th>8</th>\n",
       "      <td>avg_historico_mrentabilidad_annual</td>\n",
       "      <td>257</td>\n",
       "    </tr>\n",
       "    <tr>\n",
       "      <th>9</th>\n",
       "      <td>mrentabilidad_annual</td>\n",
       "      <td>250</td>\n",
       "    </tr>\n",
       "    <tr>\n",
       "      <th>10</th>\n",
       "      <td>ratio_actual_mrentabilidad_annual</td>\n",
       "      <td>242</td>\n",
       "    </tr>\n",
       "    <tr>\n",
       "      <th>11</th>\n",
       "      <td>sumcum_mrentabilidad_annual</td>\n",
       "      <td>241</td>\n",
       "    </tr>\n",
       "    <tr>\n",
       "      <th>12</th>\n",
       "      <td>tc_fechalta_menor</td>\n",
       "      <td>239</td>\n",
       "    </tr>\n",
       "    <tr>\n",
       "      <th>13</th>\n",
       "      <td>ratio_actual_mcaja_ahorro_dolares</td>\n",
       "      <td>239</td>\n",
       "    </tr>\n",
       "    <tr>\n",
       "      <th>14</th>\n",
       "      <td>mcuentas_saldo</td>\n",
       "      <td>224</td>\n",
       "    </tr>\n",
       "    <tr>\n",
       "      <th>15</th>\n",
       "      <td>ratio_actual_mcuentas_saldo</td>\n",
       "      <td>222</td>\n",
       "    </tr>\n",
       "    <tr>\n",
       "      <th>16</th>\n",
       "      <td>mpasivos_margen</td>\n",
       "      <td>221</td>\n",
       "    </tr>\n",
       "    <tr>\n",
       "      <th>17</th>\n",
       "      <td>ratio_actual_ctrx_quarter</td>\n",
       "      <td>219</td>\n",
       "    </tr>\n",
       "    <tr>\n",
       "      <th>18</th>\n",
       "      <td>m_promedio_comisiones_otras_slope_1</td>\n",
       "      <td>217</td>\n",
       "    </tr>\n",
       "    <tr>\n",
       "      <th>19</th>\n",
       "      <td>ratio_actual_chomebanking_transacciones</td>\n",
       "      <td>213</td>\n",
       "    </tr>\n",
       "    <tr>\n",
       "      <th>20</th>\n",
       "      <td>ratio_actual_m_promedio_comisiones_otras</td>\n",
       "      <td>211</td>\n",
       "    </tr>\n",
       "    <tr>\n",
       "      <th>21</th>\n",
       "      <td>ratio_actual_mprestamos_personales</td>\n",
       "      <td>206</td>\n",
       "    </tr>\n",
       "    <tr>\n",
       "      <th>22</th>\n",
       "      <td>cliente_edad</td>\n",
       "      <td>199</td>\n",
       "    </tr>\n",
       "    <tr>\n",
       "      <th>23</th>\n",
       "      <td>ratio_actual_mactivos_margen</td>\n",
       "      <td>194</td>\n",
       "    </tr>\n",
       "    <tr>\n",
       "      <th>24</th>\n",
       "      <td>proporcion_financiacion_total_cubierto</td>\n",
       "      <td>193</td>\n",
       "    </tr>\n",
       "    <tr>\n",
       "      <th>25</th>\n",
       "      <td>mcuenta_corriente_slope_1</td>\n",
       "      <td>190</td>\n",
       "    </tr>\n",
       "    <tr>\n",
       "      <th>26</th>\n",
       "      <td>m_promedio_comisiones_mantenimiento_slope_1</td>\n",
       "      <td>186</td>\n",
       "    </tr>\n",
       "    <tr>\n",
       "      <th>27</th>\n",
       "      <td>ctrx_quarter</td>\n",
       "      <td>183</td>\n",
       "    </tr>\n",
       "    <tr>\n",
       "      <th>28</th>\n",
       "      <td>sumcum_chomebanking_transacciones</td>\n",
       "      <td>182</td>\n",
       "    </tr>\n",
       "    <tr>\n",
       "      <th>29</th>\n",
       "      <td>mrentabilidad_slope_1</td>\n",
       "      <td>177</td>\n",
       "    </tr>\n",
       "    <tr>\n",
       "      <th>30</th>\n",
       "      <td>mcuenta_corriente</td>\n",
       "      <td>171</td>\n",
       "    </tr>\n",
       "    <tr>\n",
       "      <th>31</th>\n",
       "      <td>Visa_fechaalta</td>\n",
       "      <td>170</td>\n",
       "    </tr>\n",
       "    <tr>\n",
       "      <th>32</th>\n",
       "      <td>sumcum_mpasivos_margen</td>\n",
       "      <td>168</td>\n",
       "    </tr>\n",
       "    <tr>\n",
       "      <th>33</th>\n",
       "      <td>sumcum_mcuenta_corriente</td>\n",
       "      <td>165</td>\n",
       "    </tr>\n",
       "    <tr>\n",
       "      <th>34</th>\n",
       "      <td>chomebanking_transacciones</td>\n",
       "      <td>162</td>\n",
       "    </tr>\n",
       "    <tr>\n",
       "      <th>35</th>\n",
       "      <td>mactivos_margen_slope_1</td>\n",
       "      <td>159</td>\n",
       "    </tr>\n",
       "    <tr>\n",
       "      <th>36</th>\n",
       "      <td>numero_de_cliente</td>\n",
       "      <td>159</td>\n",
       "    </tr>\n",
       "    <tr>\n",
       "      <th>37</th>\n",
       "      <td>m_promedio_comisiones_otras</td>\n",
       "      <td>159</td>\n",
       "    </tr>\n",
       "    <tr>\n",
       "      <th>38</th>\n",
       "      <td>thomebanking</td>\n",
       "      <td>157</td>\n",
       "    </tr>\n",
       "    <tr>\n",
       "      <th>39</th>\n",
       "      <td>ratio_actual_mrentabilidad</td>\n",
       "      <td>155</td>\n",
       "    </tr>\n",
       "    <tr>\n",
       "      <th>40</th>\n",
       "      <td>tc_fechaalta_mayor</td>\n",
       "      <td>154</td>\n",
       "    </tr>\n",
       "    <tr>\n",
       "      <th>41</th>\n",
       "      <td>ratio_actual_mcaja_ahorro</td>\n",
       "      <td>147</td>\n",
       "    </tr>\n",
       "    <tr>\n",
       "      <th>42</th>\n",
       "      <td>Master_Fvencimiento</td>\n",
       "      <td>145</td>\n",
       "    </tr>\n",
       "    <tr>\n",
       "      <th>43</th>\n",
       "      <td>sumcum_mcuentas_saldo</td>\n",
       "      <td>144</td>\n",
       "    </tr>\n",
       "    <tr>\n",
       "      <th>44</th>\n",
       "      <td>cliente_antiguedad</td>\n",
       "      <td>143</td>\n",
       "    </tr>\n",
       "    <tr>\n",
       "      <th>45</th>\n",
       "      <td>ctrx_quarter_normalizado</td>\n",
       "      <td>142</td>\n",
       "    </tr>\n",
       "    <tr>\n",
       "      <th>46</th>\n",
       "      <td>Master_status</td>\n",
       "      <td>135</td>\n",
       "    </tr>\n",
       "    <tr>\n",
       "      <th>47</th>\n",
       "      <td>ratio_actual_mcomisiones</td>\n",
       "      <td>134</td>\n",
       "    </tr>\n",
       "    <tr>\n",
       "      <th>48</th>\n",
       "      <td>ratio_actual_ccallcenter_transacciones</td>\n",
       "      <td>134</td>\n",
       "    </tr>\n",
       "    <tr>\n",
       "      <th>49</th>\n",
       "      <td>avg_historico_mactivos_margen</td>\n",
       "      <td>132</td>\n",
       "    </tr>\n",
       "  </tbody>\n",
       "</table>\n",
       "</div>"
      ],
      "text/plain": [
       "                                        Feature  Importance\n",
       "0                                   model_mes_0         829\n",
       "1                                   model_mes_2         738\n",
       "2                                   model_mes_1         679\n",
       "3                  mrentabilidad_annual_slope_1         350\n",
       "4           m_promedio_transferencias_recibidas         320\n",
       "5                ratio_actual_mcuenta_corriente         294\n",
       "6                        mcuentas_saldo_slope_1         290\n",
       "7                  ratio_actual_mpasivos_margen         275\n",
       "8            avg_historico_mrentabilidad_annual         257\n",
       "9                          mrentabilidad_annual         250\n",
       "10            ratio_actual_mrentabilidad_annual         242\n",
       "11                  sumcum_mrentabilidad_annual         241\n",
       "12                            tc_fechalta_menor         239\n",
       "13            ratio_actual_mcaja_ahorro_dolares         239\n",
       "14                               mcuentas_saldo         224\n",
       "15                  ratio_actual_mcuentas_saldo         222\n",
       "16                              mpasivos_margen         221\n",
       "17                    ratio_actual_ctrx_quarter         219\n",
       "18          m_promedio_comisiones_otras_slope_1         217\n",
       "19      ratio_actual_chomebanking_transacciones         213\n",
       "20     ratio_actual_m_promedio_comisiones_otras         211\n",
       "21           ratio_actual_mprestamos_personales         206\n",
       "22                                 cliente_edad         199\n",
       "23                 ratio_actual_mactivos_margen         194\n",
       "24       proporcion_financiacion_total_cubierto         193\n",
       "25                    mcuenta_corriente_slope_1         190\n",
       "26  m_promedio_comisiones_mantenimiento_slope_1         186\n",
       "27                                 ctrx_quarter         183\n",
       "28            sumcum_chomebanking_transacciones         182\n",
       "29                        mrentabilidad_slope_1         177\n",
       "30                            mcuenta_corriente         171\n",
       "31                               Visa_fechaalta         170\n",
       "32                       sumcum_mpasivos_margen         168\n",
       "33                     sumcum_mcuenta_corriente         165\n",
       "34                   chomebanking_transacciones         162\n",
       "35                      mactivos_margen_slope_1         159\n",
       "36                            numero_de_cliente         159\n",
       "37                  m_promedio_comisiones_otras         159\n",
       "38                                 thomebanking         157\n",
       "39                   ratio_actual_mrentabilidad         155\n",
       "40                           tc_fechaalta_mayor         154\n",
       "41                    ratio_actual_mcaja_ahorro         147\n",
       "42                          Master_Fvencimiento         145\n",
       "43                        sumcum_mcuentas_saldo         144\n",
       "44                           cliente_antiguedad         143\n",
       "45                     ctrx_quarter_normalizado         142\n",
       "46                                Master_status         135\n",
       "47                     ratio_actual_mcomisiones         134\n",
       "48       ratio_actual_ccallcenter_transacciones         134\n",
       "49                avg_historico_mactivos_margen         132"
      ]
     },
     "execution_count": 19,
     "metadata": {},
     "output_type": "execute_result"
    }
   ],
   "source": [
    "#ii. Dataframe.\n",
    "\n",
    "for i in lgb_models:\n",
    "    # Graficar feature importace de cada mes\n",
    "    lgb_model = lgb_models[i]\n",
    "    importance = lgb_model.booster_.feature_importance()\n",
    "    features = lgb_model.booster_.feature_name()\n",
    "    importance_df = pd.DataFrame({'Feature': features, 'Importance': importance})\n",
    "    importance_df = importance_df.sort_values(by='Importance', ascending=False).reset_index(drop=True)\n",
    "    print(importance_df.head(10))\n",
    "    \n",
    "#a. Extract feature importance and feature names.\n",
    "importance = meta_model.booster_.feature_importance()\n",
    "features = meta_model.booster_.feature_name()\n",
    "\n",
    "#b. Create a dataframe for better visualization.\n",
    "importance_df = pd.DataFrame({'Feature': features, 'Importance': importance})\n",
    "\n",
    "#c. Sort by importance in descending order.\n",
    "importance_df = importance_df.sort_values(by='Importance', ascending=False).reset_index(drop=True)\n",
    "\n",
    "#d. show.\n",
    "importance_df.head(50)"
   ]
  },
  {
   "cell_type": "code",
   "execution_count": 41,
   "metadata": {},
   "outputs": [],
   "source": [
    "X_test.drop(['Probabilidad'], axis=1, inplace=True)\n"
   ]
  },
  {
   "cell_type": "code",
   "execution_count": 42,
   "metadata": {},
   "outputs": [],
   "source": [
    "oof_predictions = np.zeros((X_test.shape[0], len(month_blocks)))\n",
    "\n",
    "# Entrenar modelos mensuales y generar predicciones sobre el último mes\n",
    "for i, block in enumerate(month_blocks):\n",
    "    # Guardar las probabilidades predichas para el meta-modelo usando el último mes\n",
    "    oof_predictions[:, i] = lgb_models[i].predict_proba(X_test)[:, 1]\n",
    "    \n",
    "# Crear dataset para el meta-modelo\n",
    "meta_features = pd.DataFrame(oof_predictions, columns=[f'model_mes_{i}' for i, block in enumerate(month_blocks)])\n",
    "meta_features = pd.concat([meta_features, X_test.reset_index(drop=True)], axis=1)\n",
    "\n",
    "predicciones = meta_model.predict(meta_features)"
   ]
  },
  {
   "cell_type": "code",
   "execution_count": 43,
   "metadata": {},
   "outputs": [
    {
     "data": {
      "text/plain": [
       "8162"
      ]
     },
     "execution_count": 43,
     "metadata": {},
     "output_type": "execute_result"
    }
   ],
   "source": [
    "predicciones.sum()"
   ]
  },
  {
   "cell_type": "code",
   "execution_count": 46,
   "metadata": {},
   "outputs": [],
   "source": [
    "X_test['Probabilidad'] = predicciones"
   ]
  },
  {
   "cell_type": "code",
   "execution_count": 22,
   "metadata": {},
   "outputs": [
    {
     "name": "stdout",
     "output_type": "stream",
     "text": [
      "Cantidad de clientes 9000\n",
      "Cantidad de clientes 9200\n",
      "Cantidad de clientes 9400\n",
      "Cantidad de clientes 9600\n",
      "Cantidad de clientes 9800\n",
      "Cantidad de clientes 10000\n",
      "Cantidad de clientes 10200\n",
      "Cantidad de clientes 10400\n",
      "Cantidad de clientes 10600\n",
      "Cantidad de clientes 10800\n",
      "Cantidad de clientes 11000\n",
      "Cantidad de clientes 11200\n",
      "Cantidad de clientes 11400\n",
      "Cantidad de clientes 11600\n",
      "Cantidad de clientes 11800\n",
      "Cantidad de clientes 12000\n",
      "Cantidad de clientes 12200\n",
      "Cantidad de clientes 12400\n",
      "Cantidad de clientes 12600\n",
      "Cantidad de clientes 12800\n",
      "Cantidad de clientes 13000\n",
      "Cantidad de clientes 13200\n",
      "Cantidad de clientes 13400\n",
      "Cantidad de clientes 13600\n",
      "Cantidad de clientes 13800\n"
     ]
    }
   ],
   "source": [
    "#iii. Ordenamos a los clientes por probabilidad de ser \"BAJA\" de forma descendente.\n",
    "tb_entrega = X_test.sort_values(by='Probabilidad', ascending=False)\n",
    "#iv. Genero una lista de distintos cortes candidatos, para enviar a Kaggle.\n",
    "cortes = range(9000,14000,200)\n",
    "#v. Generamos las distintas predicciones de clases a partir de los distintos cortes posibles.\n",
    "num_subida_kaggle = 1\n",
    "i = 0\n",
    "for envios in cortes:\n",
    "    #1. Le ponemos clase 1 (\"BAJA\") a los primeros \"envios\" con mayor probabilidad.\n",
    "    tb_entrega['Predicted'] = 0\n",
    "    tb_entrega.iloc[:envios, tb_entrega.columns.get_loc('Predicted')] = 1\n",
    "    resultados = tb_entrega[[\"numero_de_cliente\", 'Predicted']].reset_index(drop=True)\n",
    "    \n",
    "    print(\"Cantidad de clientes {}\".format(envios))\n",
    "    #2. Guardamos el archivo para Kaggle.\n",
    "    nombre_archivo = \"K_OH_6_6_00{}.csv\".format(num_subida_kaggle) #-X meses, con df de -X meses, número de intento.\n",
    "    ruta_archivo= \"{}/{}\".format(exp_path,nombre_archivo)\n",
    "    resultados.to_csv(ruta_archivo, index=False)\n",
    "    \n",
    "    num_subida_kaggle += 1\n",
    "    i += 1"
   ]
  },
  {
   "cell_type": "code",
   "execution_count": null,
   "metadata": {},
   "outputs": [],
   "source": [
    "#7. Guardamos el modelo.\n",
    "# Primer dígito cuantos meses para atrás desde 06/21, segundo dígito número data drifting, tercer dígito número de entrenamiento.\n",
    "model_lgb.save_model(modelos_path + 'lgbm_{}_{}_undersampling.txt'.format(cantidad_meses_train,ventana))"
   ]
  },
  {
   "cell_type": "code",
   "execution_count": null,
   "metadata": {},
   "outputs": [],
   "source": [
    "####################################################################################################\n",
    "####################################################################################################\n",
    "####################################################################################################\n",
    "####################################################################################################\n",
    "############## Primera subida orientativa a Kaggle previo medir semillas, etc. #####################\n",
    "####################################################################################################\n",
    "####################################################################################################\n",
    "####################################################################################################\n",
    "####################################################################################################"
   ]
  },
  {
   "cell_type": "code",
   "execution_count": null,
   "metadata": {},
   "outputs": [],
   "source": [
    "#8. Volvemos a leer el modelo.\n",
    "model_lgb = lgb.Booster(model_file= modelos_path + 'lgbm_{}_{}_undersampling.txt'.format(cantidad_meses_train,ventana))"
   ]
  },
  {
   "cell_type": "code",
   "execution_count": 44,
   "metadata": {},
   "outputs": [],
   "source": [
    "#a. Importo librería.\n",
    "from kaggle.api.kaggle_api_extended import KaggleApi\n",
    "#b. Configura el API de Kaggle\n",
    "api = KaggleApi()\n",
    "api.authenticate()"
   ]
  },
  {
   "cell_type": "code",
   "execution_count": 47,
   "metadata": {},
   "outputs": [
    {
     "name": "stdout",
     "output_type": "stream",
     "text": [
      "Cantidad de clientes 9000\n",
      "1\n"
     ]
    },
    {
     "name": "stderr",
     "output_type": "stream",
     "text": [
      "100%|██████████| 1.93M/1.93M [00:00<00:00, 2.94MB/s]\n"
     ]
    },
    {
     "name": "stdout",
     "output_type": "stream",
     "text": [
      "Submission successful!\n",
      "Cantidad de clientes 9200\n",
      "2\n"
     ]
    },
    {
     "name": "stderr",
     "output_type": "stream",
     "text": [
      "100%|██████████| 1.93M/1.93M [00:00<00:00, 3.30MB/s]\n"
     ]
    },
    {
     "name": "stdout",
     "output_type": "stream",
     "text": [
      "Submission successful!\n",
      "Cantidad de clientes 9400\n",
      "3\n"
     ]
    },
    {
     "name": "stderr",
     "output_type": "stream",
     "text": [
      "100%|██████████| 1.93M/1.93M [00:00<00:00, 3.00MB/s]\n"
     ]
    },
    {
     "name": "stdout",
     "output_type": "stream",
     "text": [
      "Submission successful!\n",
      "Cantidad de clientes 9600\n",
      "4\n"
     ]
    },
    {
     "name": "stderr",
     "output_type": "stream",
     "text": [
      "100%|██████████| 1.93M/1.93M [00:00<00:00, 2.90MB/s]\n"
     ]
    },
    {
     "name": "stdout",
     "output_type": "stream",
     "text": [
      "Submission successful!\n",
      "Cantidad de clientes 9800\n",
      "5\n"
     ]
    },
    {
     "name": "stderr",
     "output_type": "stream",
     "text": [
      "100%|██████████| 1.93M/1.93M [00:01<00:00, 1.30MB/s]\n"
     ]
    },
    {
     "name": "stdout",
     "output_type": "stream",
     "text": [
      "Submission successful!\n",
      "Cantidad de clientes 10000\n",
      "6\n"
     ]
    },
    {
     "name": "stderr",
     "output_type": "stream",
     "text": [
      "100%|██████████| 1.93M/1.93M [00:00<00:00, 3.23MB/s]\n"
     ]
    },
    {
     "name": "stdout",
     "output_type": "stream",
     "text": [
      "Submission successful!\n",
      "Cantidad de clientes 10200\n",
      "7\n"
     ]
    },
    {
     "name": "stderr",
     "output_type": "stream",
     "text": [
      "100%|██████████| 1.93M/1.93M [00:00<00:00, 3.20MB/s]\n"
     ]
    },
    {
     "name": "stdout",
     "output_type": "stream",
     "text": [
      "Submission successful!\n",
      "Cantidad de clientes 10400\n",
      "8\n"
     ]
    },
    {
     "name": "stderr",
     "output_type": "stream",
     "text": [
      "100%|██████████| 1.93M/1.93M [00:00<00:00, 3.21MB/s]\n"
     ]
    },
    {
     "name": "stdout",
     "output_type": "stream",
     "text": [
      "Submission successful!\n",
      "Cantidad de clientes 10600\n",
      "9\n"
     ]
    },
    {
     "name": "stderr",
     "output_type": "stream",
     "text": [
      "100%|██████████| 1.93M/1.93M [00:00<00:00, 3.19MB/s]\n"
     ]
    },
    {
     "name": "stdout",
     "output_type": "stream",
     "text": [
      "Submission successful!\n",
      "Cantidad de clientes 10800\n",
      "10\n"
     ]
    },
    {
     "name": "stderr",
     "output_type": "stream",
     "text": [
      "100%|██████████| 1.93M/1.93M [00:00<00:00, 2.87MB/s]\n"
     ]
    },
    {
     "name": "stdout",
     "output_type": "stream",
     "text": [
      "Submission successful!\n",
      "Cantidad de clientes 11000\n",
      "11\n"
     ]
    },
    {
     "name": "stderr",
     "output_type": "stream",
     "text": [
      "100%|██████████| 1.93M/1.93M [00:00<00:00, 3.18MB/s]\n"
     ]
    },
    {
     "name": "stdout",
     "output_type": "stream",
     "text": [
      "Submission successful!\n",
      "Cantidad de clientes 11200\n",
      "12\n"
     ]
    },
    {
     "name": "stderr",
     "output_type": "stream",
     "text": [
      "100%|██████████| 1.93M/1.93M [00:00<00:00, 3.17MB/s]\n"
     ]
    },
    {
     "name": "stdout",
     "output_type": "stream",
     "text": [
      "Submission successful!\n",
      "Cantidad de clientes 11400\n",
      "13\n"
     ]
    },
    {
     "name": "stderr",
     "output_type": "stream",
     "text": [
      "100%|██████████| 1.93M/1.93M [00:00<00:00, 2.85MB/s]\n"
     ]
    },
    {
     "name": "stdout",
     "output_type": "stream",
     "text": [
      "Submission successful!\n",
      "Cantidad de clientes 11600\n",
      "14\n"
     ]
    },
    {
     "name": "stderr",
     "output_type": "stream",
     "text": [
      "100%|██████████| 1.93M/1.93M [00:00<00:00, 3.11MB/s]\n"
     ]
    },
    {
     "name": "stdout",
     "output_type": "stream",
     "text": [
      "Submission successful!\n",
      "Cantidad de clientes 11800\n",
      "15\n"
     ]
    },
    {
     "name": "stderr",
     "output_type": "stream",
     "text": [
      "100%|██████████| 1.93M/1.93M [00:00<00:00, 2.92MB/s]\n"
     ]
    },
    {
     "name": "stdout",
     "output_type": "stream",
     "text": [
      "Submission successful!\n",
      "Cantidad de clientes 12000\n",
      "Esperamos 30 segundos...\n"
     ]
    },
    {
     "name": "stderr",
     "output_type": "stream",
     "text": [
      "100%|██████████| 1.93M/1.93M [00:00<00:00, 3.09MB/s]\n"
     ]
    },
    {
     "name": "stdout",
     "output_type": "stream",
     "text": [
      "Submission successful!\n",
      "Cantidad de clientes 12200\n",
      "1\n"
     ]
    },
    {
     "name": "stderr",
     "output_type": "stream",
     "text": [
      "100%|██████████| 1.93M/1.93M [00:00<00:00, 3.19MB/s]\n"
     ]
    },
    {
     "name": "stdout",
     "output_type": "stream",
     "text": [
      "Submission successful!\n",
      "Cantidad de clientes 12400\n",
      "2\n"
     ]
    },
    {
     "name": "stderr",
     "output_type": "stream",
     "text": [
      "100%|██████████| 1.93M/1.93M [00:00<00:00, 3.02MB/s]\n"
     ]
    },
    {
     "name": "stdout",
     "output_type": "stream",
     "text": [
      "Submission successful!\n",
      "Cantidad de clientes 12600\n",
      "3\n"
     ]
    },
    {
     "name": "stderr",
     "output_type": "stream",
     "text": [
      "100%|██████████| 1.93M/1.93M [00:00<00:00, 3.05MB/s]\n"
     ]
    },
    {
     "name": "stdout",
     "output_type": "stream",
     "text": [
      "Submission successful!\n",
      "Cantidad de clientes 12800\n",
      "4\n"
     ]
    },
    {
     "name": "stderr",
     "output_type": "stream",
     "text": [
      "100%|██████████| 1.93M/1.93M [00:00<00:00, 3.17MB/s]\n"
     ]
    },
    {
     "name": "stdout",
     "output_type": "stream",
     "text": [
      "Submission successful!\n",
      "Cantidad de clientes 13000\n",
      "5\n"
     ]
    },
    {
     "name": "stderr",
     "output_type": "stream",
     "text": [
      "100%|██████████| 1.93M/1.93M [00:00<00:00, 3.26MB/s]\n"
     ]
    },
    {
     "name": "stdout",
     "output_type": "stream",
     "text": [
      "Submission successful!\n",
      "Cantidad de clientes 13200\n",
      "6\n"
     ]
    },
    {
     "name": "stderr",
     "output_type": "stream",
     "text": [
      "100%|██████████| 1.93M/1.93M [00:00<00:00, 3.19MB/s]\n"
     ]
    },
    {
     "name": "stdout",
     "output_type": "stream",
     "text": [
      "Submission successful!\n",
      "Cantidad de clientes 13400\n",
      "7\n"
     ]
    },
    {
     "name": "stderr",
     "output_type": "stream",
     "text": [
      "100%|██████████| 1.93M/1.93M [00:00<00:00, 3.05MB/s]\n"
     ]
    },
    {
     "name": "stdout",
     "output_type": "stream",
     "text": [
      "Submission successful!\n",
      "Cantidad de clientes 13600\n",
      "8\n"
     ]
    },
    {
     "name": "stderr",
     "output_type": "stream",
     "text": [
      "100%|██████████| 1.93M/1.93M [00:00<00:00, 3.17MB/s]\n"
     ]
    },
    {
     "name": "stdout",
     "output_type": "stream",
     "text": [
      "Submission successful!\n",
      "Cantidad de clientes 13800\n",
      "9\n"
     ]
    },
    {
     "name": "stderr",
     "output_type": "stream",
     "text": [
      "100%|██████████| 1.93M/1.93M [00:00<00:00, 3.16MB/s]\n"
     ]
    },
    {
     "name": "stdout",
     "output_type": "stream",
     "text": [
      "Submission successful!\n"
     ]
    }
   ],
   "source": [
    "#iii. Ordenamos a los clientes por probabilidad de ser \"BAJA\" de forma descendente.\n",
    "tb_entrega = X_test.sort_values(by='Probabilidad', ascending=False)\n",
    "#iv. Genero una lista de distintos cortes candidatos, para enviar a Kaggle.\n",
    "cortes = range(9000,14000,200)\n",
    "#v. Generamos las distintas predicciones de clases a partir de los distintos cortes posibles.\n",
    "num_subida_kaggle = 1\n",
    "\n",
    "i = 0\n",
    "for envios in cortes:\n",
    "    #1. Le ponemos clase 1 (\"BAJA\") a los primeros \"envios\" con mayor probabilidad.\n",
    "    tb_entrega['Predicted'] = 0\n",
    "    tb_entrega.iloc[:envios, tb_entrega.columns.get_loc('Predicted')] = 1\n",
    "    resultados = tb_entrega[[\"numero_de_cliente\", 'Predicted']].reset_index(drop=True)\n",
    "    \n",
    "    print(\"Cantidad de clientes {}\".format(envios))\n",
    "    #2. Guardamos el archivo para Kaggle.\n",
    "    nombre_archivo = \"K_OH_6_6_00{}.csv\".format(num_subida_kaggle) #-X meses, con df de -X meses, número de intento.\n",
    "    ruta_archivo= \"{}/{}\".format(exp_path,nombre_archivo)\n",
    "    resultados.to_csv(ruta_archivo, index=False)\n",
    "    \n",
    "    num_subida_kaggle += 1\n",
    "    i += 1\n",
    "    \n",
    "    #3. Envío a Kaggle.\n",
    "    #a. Defino los parámetros claves.\n",
    "    mensaje = f'DF {ventana}, punto_corte: {envios}.'\n",
    "    competencia = 'dm-ey-f-2024-segunda'\n",
    "    #c. Subo la Submission.\n",
    "    while i<=15:\n",
    "        print(i)\n",
    "        api.competition_submit(file_name=ruta_archivo, message=mensaje, competition=competencia)\n",
    "        print(\"Submission successful!\")\n",
    "        break\n",
    "    else:\n",
    "        print(\"Esperamos 30 segundos...\")\n",
    "        time.sleep(30)\n",
    "        api.competition_submit(file_name=ruta_archivo, message=mensaje, competition=competencia)\n",
    "        print(\"Submission successful!\")\n",
    "        i= 0"
   ]
  }
 ],
 "metadata": {
  "kernelspec": {
   "display_name": "Python 3 (ipykernel)",
   "language": "python",
   "name": "python3"
  },
  "language_info": {
   "codemirror_mode": {
    "name": "ipython",
    "version": 3
   },
   "file_extension": ".py",
   "mimetype": "text/x-python",
   "name": "python",
   "nbconvert_exporter": "python",
   "pygments_lexer": "ipython3",
   "version": "3.12.3"
  }
 },
 "nbformat": 4,
 "nbformat_minor": 4
}
