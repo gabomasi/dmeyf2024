{
 "cells": [
  {
   "cell_type": "markdown",
   "metadata": {},
   "source": [
    "## A. Funciones."
   ]
  },
  {
   "cell_type": "code",
   "execution_count": null,
   "metadata": {},
   "outputs": [],
   "source": [
    "#i. PSI.\n",
    "#3. Funciones.\n",
    "#i. PSI.\n",
    "def psi(expected, actual, buckets=10):\n",
    "\n",
    "    def psi_formula(expected_prop, actual_prop):\n",
    "        result = (actual_prop - expected_prop) * np.log(actual_prop / expected_prop)\n",
    "        return result\n",
    "\n",
    "    expected_not_null = expected.dropna()\n",
    "    actual_not_null = actual.dropna()\n",
    "\n",
    "    bin_edges = pd.qcut(expected_not_null, q=buckets, duplicates='drop').unique()\n",
    "    bin_edges2 = [edge.left for edge in bin_edges] + [edge.right for edge in bin_edges]\n",
    "    breakpoints = sorted(list(set(bin_edges2)))\n",
    "\n",
    "    expected_counts, _ = np.histogram(expected_not_null, bins=breakpoints)\n",
    "    actual_counts, _ = np.histogram(actual_not_null, bins=breakpoints)\n",
    "\n",
    "    expected_prop = expected_counts / len(expected_not_null)\n",
    "    actual_prop = actual_counts / len(actual_not_null)\n",
    "\n",
    "    psi_not_null = psi_formula(expected_prop, actual_prop).sum()\n",
    "\n",
    "    psi_null = 0\n",
    "\n",
    "    if expected.isnull().sum() > 0 and actual.isnull().sum() > 0 :\n",
    "      expected_null_percentage = expected.isnull().mean()\n",
    "      actual_null_percentage = actual.isnull().mean()\n",
    "      psi_null = psi_formula(expected_null_percentage, actual_null_percentage)\n",
    "\n",
    "    return psi_not_null + psi_null"
   ]
  },
  {
   "cell_type": "code",
   "execution_count": null,
   "metadata": {},
   "outputs": [],
   "source": [
    "#ii. Evaluación de Ganancia (LGBM).\n",
    "def lgb_gan_eval(y_pred, data):\n",
    "    weight = data.get_weight()\n",
    "    ganancia = np.where(weight == 1.00002, ganancia_acierto, 0) - np.where(weight < 1.00002, costo_estimulo, 0)\n",
    "    ganancia = ganancia[np.argsort(y_pred)[::-1]]\n",
    "    ganancia = np.cumsum(ganancia)\n",
    "\n",
    "    return 'gan_eval', np.max(ganancia) , True\n"
   ]
  },
  {
   "cell_type": "code",
   "execution_count": null,
   "metadata": {},
   "outputs": [],
   "source": [
    "#iii. Probabilidad de Ganancia (LGBM).\n",
    "def ganancia_prob(y_pred, y_true, prop = 1):\n",
    "  ganancia = np.where(y_true == 1, ganancia_acierto, 0) - np.where(y_true == 0, costo_estimulo, 0)\n",
    "  return ganancia[y_pred >= 0.025].sum() / prop"
   ]
  },
  {
   "cell_type": "code",
   "execution_count": null,
   "metadata": {},
   "outputs": [],
   "source": [
    "#iv. Diferentes funciones y métodos para corregir el efecto de la inflación.\n",
    "def drift_uva(dataset, campos_monetarios, tb_indices):\n",
    "    print(\"inicio drift_UVA()\")\n",
    "    dataset = dataset.merge(tb_indices[['foto_mes', 'UVA']], on='foto_mes', how='left')\n",
    "    for campo in campos_monetarios:\n",
    "        dataset[campo] *= dataset['UVA']\n",
    "    dataset.drop(columns=['UVA'], inplace=True)\n",
    "    print(\"fin drift_UVA()\")\n",
    "    return dataset\n",
    "\n",
    "def drift_deflacion(dataset, campos_monetarios, tb_indices):\n",
    "    print(\"inicio drift_deflacion()\")\n",
    "    dataset = dataset.merge(tb_indices[['foto_mes', 'IPC']], on='foto_mes', how='left')\n",
    "    for campo in campos_monetarios:\n",
    "        dataset[campo] *= dataset['IPC']\n",
    "    dataset.drop(columns=['IPC'], inplace=True)\n",
    "    print(\"fin drift_deflacion()\")\n",
    "    return dataset\n",
    "\n",
    "# Función para estandarizar datos\n",
    "def drift_estandarizar(dataset, campos_drift):\n",
    "    print(\"inicio drift_estandarizar()\")\n",
    "    for campo in campos_drift:\n",
    "        dataset[campo + \"_normal\"] = dataset.groupby('foto_mes')[campo].transform(lambda x: (x - x.mean()) / x.std())\n",
    "        dataset.drop(columns=[campo], inplace=True)\n",
    "    print(\"fin drift_estandarizar()\")\n",
    "    return dataset"
   ]
  }
 ],
 "metadata": {
  "language_info": {
   "name": "python"
  }
 },
 "nbformat": 4,
 "nbformat_minor": 2
}
